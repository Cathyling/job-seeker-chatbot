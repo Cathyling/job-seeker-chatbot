{
 "cells": [
  {
   "cell_type": "markdown",
   "metadata": {},
   "source": [
    "# <center>CITS4012 Project 1 A rule based chatbot</center>\n",
    "**Name: Jialing Liu**<br>\n",
    "**Student Number: 23125467**<br>"
   ]
  },
  {
   "cell_type": "markdown",
   "metadata": {},
   "source": [
    "##  Introduction\n",
    "In this project we will create a rule based chatbot based on the seek_australia.csv job dataset obtained from data.world. Users can communicate with the chatbot via telegram. The chatbot can handle specific messages from users who seek for jobs. "
   ]
  },
  {
   "cell_type": "markdown",
   "metadata": {},
   "source": [
    "## 1 Data Exploration\n"
   ]
  },
  {
   "cell_type": "code",
   "execution_count": 1,
   "metadata": {},
   "outputs": [],
   "source": [
    "import pandas as pd\n",
    "# read data into a dataframe\n",
    "data = pd.read_csv('seek_australia.csv', sep=',')\n"
   ]
  },
  {
   "cell_type": "code",
   "execution_count": 2,
   "metadata": {},
   "outputs": [
    {
     "data": {
      "text/plain": [
       "(3000, 12)"
      ]
     },
     "execution_count": 2,
     "metadata": {},
     "output_type": "execute_result"
    }
   ],
   "source": [
    "data.shape"
   ]
  },
  {
   "cell_type": "code",
   "execution_count": 5,
   "metadata": {},
   "outputs": [
    {
     "data": {
      "text/plain": [
       "pandas.core.series.Series"
      ]
     },
     "execution_count": 5,
     "metadata": {},
     "output_type": "execute_result"
    }
   ],
   "source": [
    "type(data['job_description'])"
   ]
  },
  {
   "cell_type": "code",
   "execution_count": 3,
   "metadata": {},
   "outputs": [
    {
     "data": {
      "text/html": [
       "<div>\n",
       "<style scoped>\n",
       "    .dataframe tbody tr th:only-of-type {\n",
       "        vertical-align: middle;\n",
       "    }\n",
       "\n",
       "    .dataframe tbody tr th {\n",
       "        vertical-align: top;\n",
       "    }\n",
       "\n",
       "    .dataframe thead th {\n",
       "        text-align: right;\n",
       "    }\n",
       "</style>\n",
       "<table border=\"1\" class=\"dataframe\">\n",
       "  <thead>\n",
       "    <tr style=\"text-align: right;\">\n",
       "      <th></th>\n",
       "      <th>category</th>\n",
       "      <th>city</th>\n",
       "      <th>company_name</th>\n",
       "      <th>geo</th>\n",
       "      <th>job_board</th>\n",
       "      <th>job_description</th>\n",
       "      <th>job_title</th>\n",
       "      <th>job_type</th>\n",
       "      <th>post_date</th>\n",
       "      <th>salary_offered</th>\n",
       "      <th>state</th>\n",
       "      <th>url</th>\n",
       "    </tr>\n",
       "  </thead>\n",
       "  <tbody>\n",
       "    <tr>\n",
       "      <th>0</th>\n",
       "      <td>Retail &amp; Consumer Products</td>\n",
       "      <td>Sydney</td>\n",
       "      <td>Frontline Executive Retail Sydney</td>\n",
       "      <td>AU</td>\n",
       "      <td>seek</td>\n",
       "      <td>Have you had 10 years experience in fresh pro...</td>\n",
       "      <td>Store Manager - Fresh Produce</td>\n",
       "      <td>Full Time</td>\n",
       "      <td>2018-04-15T23:13:45Z</td>\n",
       "      <td>$100k Base + Super + Benefits</td>\n",
       "      <td>North Shore &amp; Northern Beaches</td>\n",
       "      <td>https://www.seek.com.au/job/35989382</td>\n",
       "    </tr>\n",
       "    <tr>\n",
       "      <th>1</th>\n",
       "      <td>Government &amp; Defence</td>\n",
       "      <td>Brisbane</td>\n",
       "      <td>Powerlink</td>\n",
       "      <td>AU</td>\n",
       "      <td>seek</td>\n",
       "      <td>The Opportunity: The Client Solution Analyst ...</td>\n",
       "      <td>Client Solution Analyst</td>\n",
       "      <td>Full Time</td>\n",
       "      <td>2018-04-15T23:04:40Z</td>\n",
       "      <td>Excellent remuneration packages</td>\n",
       "      <td>Northern Suburbs</td>\n",
       "      <td>https://www.seek.com.au/job/35989272</td>\n",
       "    </tr>\n",
       "    <tr>\n",
       "      <th>2</th>\n",
       "      <td>Trades &amp; Services</td>\n",
       "      <td>Sydney</td>\n",
       "      <td>Richard Jay Laundry</td>\n",
       "      <td>AU</td>\n",
       "      <td>seek</td>\n",
       "      <td>An innovative business development role for a...</td>\n",
       "      <td>Service Technician / Installer - NSW</td>\n",
       "      <td>Full Time</td>\n",
       "      <td>2018-04-15T23:04:31Z</td>\n",
       "      <td>NaN</td>\n",
       "      <td>Parramatta &amp; Western Suburbs</td>\n",
       "      <td>https://www.seek.com.au/job/35989270</td>\n",
       "    </tr>\n",
       "    <tr>\n",
       "      <th>3</th>\n",
       "      <td>Trades &amp; Services</td>\n",
       "      <td>Melbourne</td>\n",
       "      <td>Adaptalift Hyster</td>\n",
       "      <td>AU</td>\n",
       "      <td>seek</td>\n",
       "      <td>About the role: We are seeking an Automotive W...</td>\n",
       "      <td>Workshop Technician I Material Handling Equipment</td>\n",
       "      <td>Full Time</td>\n",
       "      <td>2018-04-16T03:15:17Z</td>\n",
       "      <td>NaN</td>\n",
       "      <td>Bayside &amp; South Eastern Suburbs</td>\n",
       "      <td>https://www.seek.com.au/job/35993203</td>\n",
       "    </tr>\n",
       "    <tr>\n",
       "      <th>4</th>\n",
       "      <td>Trades &amp; Services</td>\n",
       "      <td>Adelaide</td>\n",
       "      <td>Bakers Delight G&amp;M</td>\n",
       "      <td>AU</td>\n",
       "      <td>seek</td>\n",
       "      <td>Â Early starts and weekend shifts. No experie...</td>\n",
       "      <td>APPRENTICESHIP JUNIOR BAKER</td>\n",
       "      <td>Full Time</td>\n",
       "      <td>2018-04-16T01:26:50Z</td>\n",
       "      <td>NaN</td>\n",
       "      <td>NaN</td>\n",
       "      <td>https://www.seek.com.au/job/35991578</td>\n",
       "    </tr>\n",
       "  </tbody>\n",
       "</table>\n",
       "</div>"
      ],
      "text/plain": [
       "                     category       city                       company_name  \\\n",
       "0  Retail & Consumer Products     Sydney  Frontline Executive Retail Sydney   \n",
       "1        Government & Defence   Brisbane                          Powerlink   \n",
       "2           Trades & Services     Sydney                Richard Jay Laundry   \n",
       "3           Trades & Services  Melbourne                  Adaptalift Hyster   \n",
       "4           Trades & Services   Adelaide                 Bakers Delight G&M   \n",
       "\n",
       "  geo job_board                                    job_description  \\\n",
       "0  AU      seek   Have you had 10 years experience in fresh pro...   \n",
       "1  AU      seek   The Opportunity: The Client Solution Analyst ...   \n",
       "2  AU      seek   An innovative business development role for a...   \n",
       "3  AU      seek  About the role: We are seeking an Automotive W...   \n",
       "4  AU      seek   Â Early starts and weekend shifts. No experie...   \n",
       "\n",
       "                                           job_title   job_type  \\\n",
       "0                      Store Manager - Fresh Produce  Full Time   \n",
       "1                            Client Solution Analyst  Full Time   \n",
       "2               Service Technician / Installer - NSW  Full Time   \n",
       "3  Workshop Technician I Material Handling Equipment  Full Time   \n",
       "4                        APPRENTICESHIP JUNIOR BAKER  Full Time   \n",
       "\n",
       "              post_date                   salary_offered  \\\n",
       "0  2018-04-15T23:13:45Z    $100k Base + Super + Benefits   \n",
       "1  2018-04-15T23:04:40Z  Excellent remuneration packages   \n",
       "2  2018-04-15T23:04:31Z                              NaN   \n",
       "3  2018-04-16T03:15:17Z                              NaN   \n",
       "4  2018-04-16T01:26:50Z                              NaN   \n",
       "\n",
       "                             state                                   url  \n",
       "0   North Shore & Northern Beaches  https://www.seek.com.au/job/35989382  \n",
       "1                 Northern Suburbs  https://www.seek.com.au/job/35989272  \n",
       "2     Parramatta & Western Suburbs  https://www.seek.com.au/job/35989270  \n",
       "3  Bayside & South Eastern Suburbs  https://www.seek.com.au/job/35993203  \n",
       "4                              NaN  https://www.seek.com.au/job/35991578  "
      ]
     },
     "execution_count": 3,
     "metadata": {},
     "output_type": "execute_result"
    }
   ],
   "source": [
    "data.head()"
   ]
  },
  {
   "cell_type": "code",
   "execution_count": 5,
   "metadata": {},
   "outputs": [
    {
     "data": {
      "text/plain": [
       "60"
      ]
     },
     "execution_count": 5,
     "metadata": {},
     "output_type": "execute_result"
    }
   ],
   "source": [
    "# unique number of cities in the dataset\n",
    "len(list(data['city'].value_counts()))"
   ]
  },
  {
   "cell_type": "code",
   "execution_count": 4,
   "metadata": {},
   "outputs": [
    {
     "name": "stdout",
     "output_type": "stream",
     "text": [
      "60\n"
     ]
    }
   ],
   "source": [
    "print(len(data['city'].unique()))"
   ]
  },
  {
   "cell_type": "code",
   "execution_count": null,
   "metadata": {},
   "outputs": [
    {
     "data": {
      "text/html": [
       "<div>\n",
       "<style scoped>\n",
       "    .dataframe tbody tr th:only-of-type {\n",
       "        vertical-align: middle;\n",
       "    }\n",
       "\n",
       "    .dataframe tbody tr th {\n",
       "        vertical-align: top;\n",
       "    }\n",
       "\n",
       "    .dataframe thead th {\n",
       "        text-align: right;\n",
       "    }\n",
       "</style>\n",
       "<table border=\"1\" class=\"dataframe\">\n",
       "  <thead>\n",
       "    <tr style=\"text-align: right;\">\n",
       "      <th></th>\n",
       "      <th>city</th>\n",
       "      <th>0</th>\n",
       "    </tr>\n",
       "  </thead>\n",
       "  <tbody>\n",
       "    <tr>\n",
       "      <th>0</th>\n",
       "      <td>ACT</td>\n",
       "      <td>[Real Estate &amp; Property, Administration &amp; Offi...</td>\n",
       "    </tr>\n",
       "    <tr>\n",
       "      <th>1</th>\n",
       "      <td>Adelaide</td>\n",
       "      <td>[Trades &amp; Services, Retail &amp; Consumer Products...</td>\n",
       "    </tr>\n",
       "    <tr>\n",
       "      <th>2</th>\n",
       "      <td>Adelaide Hills &amp; Barossa</td>\n",
       "      <td>[Farming, Animals &amp; Conservation, Trades &amp; Ser...</td>\n",
       "    </tr>\n",
       "    <tr>\n",
       "      <th>3</th>\n",
       "      <td>Albany &amp; Great Southern</td>\n",
       "      <td>[Healthcare &amp; Medical, Community Services &amp; De...</td>\n",
       "    </tr>\n",
       "    <tr>\n",
       "      <th>4</th>\n",
       "      <td>Albury Wodonga &amp; Murray</td>\n",
       "      <td>[Construction, Administration &amp; Office Support...</td>\n",
       "    </tr>\n",
       "    <tr>\n",
       "      <th>...</th>\n",
       "      <td>...</td>\n",
       "      <td>...</td>\n",
       "    </tr>\n",
       "    <tr>\n",
       "      <th>60</th>\n",
       "      <td>Wagga Wagga &amp; Riverina</td>\n",
       "      <td>[Community Services &amp; Development, Healthcare ...</td>\n",
       "    </tr>\n",
       "    <tr>\n",
       "      <th>61</th>\n",
       "      <td>Whyalla &amp; Eyre Peninsula</td>\n",
       "      <td>[Call Centre &amp; Customer Service, Community Ser...</td>\n",
       "    </tr>\n",
       "    <tr>\n",
       "      <th>62</th>\n",
       "      <td>Wollongong, Illawarra &amp; South Coast</td>\n",
       "      <td>[Trades &amp; Services, Engineering, Hospitality &amp;...</td>\n",
       "    </tr>\n",
       "    <tr>\n",
       "      <th>63</th>\n",
       "      <td>Yarra Valley &amp; High Country</td>\n",
       "      <td>[Community Services &amp; Development, Trades &amp; Se...</td>\n",
       "    </tr>\n",
       "    <tr>\n",
       "      <th>64</th>\n",
       "      <td>Yorke Peninsula &amp; Clare Valley</td>\n",
       "      <td>[Community Services &amp; Development, Trades &amp; Se...</td>\n",
       "    </tr>\n",
       "  </tbody>\n",
       "</table>\n",
       "<p>65 rows × 2 columns</p>\n",
       "</div>"
      ],
      "text/plain": [
       "                                   city  \\\n",
       "0                                   ACT   \n",
       "1                              Adelaide   \n",
       "2              Adelaide Hills & Barossa   \n",
       "3               Albany & Great Southern   \n",
       "4               Albury Wodonga & Murray   \n",
       "..                                  ...   \n",
       "60               Wagga Wagga & Riverina   \n",
       "61             Whyalla & Eyre Peninsula   \n",
       "62  Wollongong, Illawarra & South Coast   \n",
       "63          Yarra Valley & High Country   \n",
       "64       Yorke Peninsula & Clare Valley   \n",
       "\n",
       "                                                    0  \n",
       "0   [Real Estate & Property, Administration & Offi...  \n",
       "1   [Trades & Services, Retail & Consumer Products...  \n",
       "2   [Farming, Animals & Conservation, Trades & Ser...  \n",
       "3   [Healthcare & Medical, Community Services & De...  \n",
       "4   [Construction, Administration & Office Support...  \n",
       "..                                                ...  \n",
       "60  [Community Services & Development, Healthcare ...  \n",
       "61  [Call Centre & Customer Service, Community Ser...  \n",
       "62  [Trades & Services, Engineering, Hospitality &...  \n",
       "63  [Community Services & Development, Trades & Se...  \n",
       "64  [Community Services & Development, Trades & Se...  \n",
       "\n",
       "[65 rows x 2 columns]"
      ]
     },
     "execution_count": 29,
     "metadata": {},
     "output_type": "execute_result"
    }
   ],
   "source": [
    "# find unique job categories for each city\n",
    "group_city = data.groupby('city')\n",
    "df = group_city.apply(lambda x: x['category'].unique())\n",
    "df.to_frame().reset_index()"
   ]
  },
  {
   "cell_type": "code",
   "execution_count": 6,
   "metadata": {},
   "outputs": [
    {
     "name": "stdout",
     "output_type": "stream",
     "text": [
      "{'Trades & Services': 30, 'Government & Defence': 27, 'Healthcare & Medical': 22, 'Mining, Resources & Energy': 16, 'Information & Communication Technology': 14, 'Construction': 13, 'Retail & Consumer Products': 10, 'Manufacturing, Transport & Logistics': 10, 'Banking & Financial Services': 9, 'Human Resources & Recruitment': 9, 'Accounting': 8, 'Administration & Office Support': 8, 'Engineering': 8, 'Education & Training': 7, 'Sales': 7, 'Hospitality & Tourism': 6, 'Real Estate & Property': 5, 'Marketing & Communications': 3, 'Insurance & Superannuation': 3, 'Community Services & Development': 3, 'Call Centre & Customer Service': 3, 'Legal': 2, 'Sport & Recreation': 2, 'CEO & General Management': 2, 'Design & Architecture': 1, 'Farming, Animals & Conservation': 1, 'Science & Technology': 1}\n"
     ]
    },
    {
     "data": {
      "image/png": "[encoded data removed]",
      "text/plain": [
       "<Figure size 1080x720 with 1 Axes>"
      ]
     },
     "metadata": {
      "needs_background": "light"
     },
     "output_type": "display_data"
    }
   ],
   "source": [
    "# Data exploration task1\n",
    "# visualise the frequency of job categories\n",
    "from matplotlib import pyplot as plt\n",
    "import seaborn as sns\n",
    "# create a function that get the frequency of job categories for each city and visualise it\n",
    "def get_category_freq(city):\n",
    "    d=data[data['city']==city]\n",
    "    categories_dict=d['category'].value_counts().to_dict()\n",
    "    print(categories_dict)\n",
    "    plt.figure(figsize=(15,10))\n",
    "    ax = sns.countplot(x=\"city\", hue=\"category\", data=d)\n",
    "# Example: get the frequency of job categories of Perth\n",
    "get_category_freq('Perth')"
   ]
  },
  {
   "cell_type": "code",
   "execution_count": null,
   "metadata": {},
   "outputs": [],
   "source": [
    "# Data Exploration task2\n",
    "# extract all job descriptions for each job catetory as text, apply gensim to tokinize text to words, \n",
    "import gensim\n",
    "import gensim.downloader as api\n",
    "from gensim.models import TfidfModel\n",
    "from gensim.corpora import Dictionary"
   ]
  },
  {
   "cell_type": "code",
   "execution_count": 10,
   "metadata": {},
   "outputs": [],
   "source": [
    "# group job descriptions for each job category {'category': [list of job descriptions]}\n",
    "categories = list(data['category'].unique())\n",
    "#categories\n",
    "# create a dict, key is job category, value is a list of job descriptions for that job category\n",
    "dict_jobs = {}\n",
    "for category in categories:\n",
    "    dict_jobs[category]=list(data[data['category']==category]['job_description'].astype(str))"
   ]
  },
  {
   "cell_type": "code",
   "execution_count": null,
   "metadata": {},
   "outputs": [
    {
     "data": {
      "text/plain": [
       "30"
      ]
     },
     "execution_count": 33,
     "metadata": {},
     "output_type": "execute_result"
    }
   ],
   "source": [
    "# concatenate each job description as a whole string for each job category, and store in a list\n",
    "jd_list=[''.join(dict_jobs[category]) for category in categories]\n",
    "#len(jd_list)"
   ]
  },
  {
   "cell_type": "code",
   "execution_count": null,
   "metadata": {},
   "outputs": [],
   "source": [
    "def sent_to_words(sentences):\n",
    "    for sentence in sentences:\n",
    "        # deacc=True removes punctuations\n",
    "        yield(gensim.utils.simple_preprocess(str(sentence), deacc=True)) "
   ]
  },
  {
   "cell_type": "code",
   "execution_count": null,
   "metadata": {},
   "outputs": [],
   "source": [
    "# create a function that output the vacobulary used by  job category and word frequency\n",
    "def get_vocabulary_freq(job_category):\n",
    "    doc_tokenized = list(sent_to_words(jd_list))\n",
    "    dictionary = Dictionary()\n",
    "    BoW_corpus = [dictionary.doc2bow(doc, allow_update=True) for doc in doc_tokenized if len(doc) >1]\n",
    "    BoW_corpus\n",
    "    index = categories.index(job_category)\n",
    "    return (sorted(([[dictionary[id], freq] for id, freq in BoW_corpus[index]]),key=lambda x:x[1], reverse=True))\n"
   ]
  },
  {
   "cell_type": "markdown",
   "metadata": {},
   "source": [
    "From above function we can get all vocabulary used in the job descriptions by the job category in the categories list, and word frequency for that job category. The following is an example for job category of Legal.\n"
   ]
  },
  {
   "cell_type": "code",
   "execution_count": null,
   "metadata": {},
   "outputs": [
    {
     "data": {
      "image/png": "[encoded data removed]",
      "text/plain": [
       "<Figure size 360x1080 with 1 Axes>"
      ]
     },
     "metadata": {
      "needs_background": "light"
     },
     "output_type": "display_data"
    }
   ],
   "source": [
    "from matplotlib import pyplot as plt\n",
    "import seaborn as sns\n",
    "vocab_list=get_vocabulary_freq('Legal')\n",
    "plot = pd.DataFrame(vocab_list[:50], columns=['Word', 'Frequency'])\n",
    "fig, ax = plt.subplots(figsize=(5,15))\n",
    "bar_plot = sns.barplot(x=plot.Frequency, y=plot.Word, orient='h', ax=ax)\n",
    "plt.title('Word Frequency Distribution for Legal')\n",
    "plt.show()"
   ]
  },
  {
   "cell_type": "code",
   "execution_count": 8,
   "metadata": {},
   "outputs": [
    {
     "name": "stdout",
     "output_type": "stream",
     "text": [
      "*** Introductory Examples for the NLTK Book ***\n",
      "Loading text1, ..., text9 and sent1, ..., sent9\n",
      "Type the name of the text or sentence to view it.\n",
      "Type: 'texts()' or 'sents()' to list the materials.\n",
      "text1: Moby Dick by Herman Melville 1851\n",
      "text2: Sense and Sensibility by Jane Austen 1811\n",
      "text3: The Book of Genesis\n",
      "text4: Inaugural Address Corpus\n",
      "text5: Chat Corpus\n",
      "text6: Monty Python and the Holy Grail\n",
      "text7: Wall Street Journal\n",
      "text8: Personals Corpus\n",
      "text9: The Man Who Was Thursday by G . K . Chesterton 1908\n"
     ]
    }
   ],
   "source": [
    "from nltk.book import *"
   ]
  },
  {
   "cell_type": "markdown",
   "metadata": {},
   "source": [
    "## 2 Data Preprocessing\n",
    "\n",
    "\n"
   ]
  },
  {
   "cell_type": "markdown",
   "metadata": {},
   "source": [
    "### 2.1 Tokenization\n",
    "\n",
    "First we group job descriptions for each category as a corpus, and each job description is a document. Then we use NLTK to perform tokenization on job descriptions."
   ]
  },
  {
   "cell_type": "code",
   "execution_count": 9,
   "metadata": {},
   "outputs": [],
   "source": [
    "import nltk\n",
    "tokenized_jd={}\n",
    "for job_category, job_corpus in dict_jobs.items():\n",
    "    tokenized_jd[job_category]=[]\n",
    "    for doc in job_corpus:\n",
    "        words = nltk.word_tokenize(doc.lower())\n",
    "        tokenized_jd[job_category].extend(words)\n"
   ]
  },
  {
   "cell_type": "code",
   "execution_count": 10,
   "metadata": {},
   "outputs": [
    {
     "name": "stdout",
     "output_type": "stream",
     "text": [
      "The vocabulary size for job category Retail & Consumer Products is 3426.\n",
      "The vocabulary size for job category Government & Defence is 4682.\n",
      "The vocabulary size for job category Trades & Services is 7021.\n",
      "The vocabulary size for job category Manufacturing, Transport & Logistics is 5367.\n",
      "The vocabulary size for job category Sales is 4751.\n",
      "The vocabulary size for job category Community Services & Development is 3475.\n",
      "The vocabulary size for job category Healthcare & Medical is 6678.\n",
      "The vocabulary size for job category Information & Communication Technology is 7385.\n",
      "The vocabulary size for job category Mining, Resources & Energy is 2980.\n",
      "The vocabulary size for job category Construction is 3860.\n",
      "The vocabulary size for job category Design & Architecture is 1884.\n",
      "The vocabulary size for job category Call Centre & Customer Service is 3087.\n",
      "The vocabulary size for job category Marketing & Communications is 3924.\n",
      "The vocabulary size for job category Administration & Office Support is 5332.\n",
      "The vocabulary size for job category Banking & Financial Services is 2988.\n",
      "The vocabulary size for job category Engineering is 3209.\n",
      "The vocabulary size for job category Education & Training is 4317.\n",
      "The vocabulary size for job category Accounting is 4428.\n",
      "The vocabulary size for job category Human Resources & Recruitment is 3399.\n",
      "The vocabulary size for job category Real Estate & Property is 2864.\n",
      "The vocabulary size for job category Sport & Recreation is 1244.\n",
      "The vocabulary size for job category Legal is 2256.\n",
      "The vocabulary size for job category Hospitality & Tourism is 4041.\n",
      "The vocabulary size for job category Consulting & Strategy is 1157.\n",
      "The vocabulary size for job category Farming, Animals & Conservation is 1142.\n",
      "The vocabulary size for job category Advertising, Arts & Media is 1398.\n",
      "The vocabulary size for job category Insurance & Superannuation is 1578.\n",
      "The vocabulary size for job category Self Employment is 193.\n",
      "The vocabulary size for job category CEO & General Management is 975.\n",
      "The vocabulary size for job category Science & Technology is 1185.\n"
     ]
    }
   ],
   "source": [
    "# vocabulary size after tokenization\n",
    "for job_category, tokenized_words in tokenized_jd.items():\n",
    "    vocab_size = len(set(tokenized_words))\n",
    "    print(f'The vocabulary size for job category {job_category} is {vocab_size}.')"
   ]
  },
  {
   "cell_type": "markdown",
   "metadata": {},
   "source": [
    "### 2.2 Lemmatization and Stemming\n",
    "\n",
    "Next, we perform lemmatization and stemming on the tokenized words."
   ]
  },
  {
   "cell_type": "code",
   "execution_count": 11,
   "metadata": {},
   "outputs": [],
   "source": [
    "from nltk.stem import WordNetLemmatizer\n",
    "# lemmatization\n",
    "lem = WordNetLemmatizer()\n",
    "lemmatized_jd = {}\n",
    "for job_category, tokenized_words in tokenized_jd.items():\n",
    "    lemmatized_jd[job_category]=[]\n",
    "    for w in tokenized_words:\n",
    "        rootword = lem.lemmatize(w)\n",
    "        lemmatized_jd[job_category].append(rootword)\n"
   ]
  },
  {
   "cell_type": "code",
   "execution_count": 12,
   "metadata": {},
   "outputs": [
    {
     "name": "stdout",
     "output_type": "stream",
     "text": [
      "The vocabulary size for job category Retail & Consumer Products is 3162.\n",
      "The vocabulary size for job category Government & Defence is 4290.\n",
      "The vocabulary size for job category Trades & Services is 6417.\n",
      "The vocabulary size for job category Manufacturing, Transport & Logistics is 4930.\n",
      "The vocabulary size for job category Sales is 4330.\n",
      "The vocabulary size for job category Community Services & Development is 3193.\n",
      "The vocabulary size for job category Healthcare & Medical is 6171.\n",
      "The vocabulary size for job category Information & Communication Technology is 6776.\n",
      "The vocabulary size for job category Mining, Resources & Energy is 2733.\n",
      "The vocabulary size for job category Construction is 3532.\n",
      "The vocabulary size for job category Design & Architecture is 1752.\n",
      "The vocabulary size for job category Call Centre & Customer Service is 2849.\n",
      "The vocabulary size for job category Marketing & Communications is 3561.\n",
      "The vocabulary size for job category Administration & Office Support is 4849.\n",
      "The vocabulary size for job category Banking & Financial Services is 2729.\n",
      "The vocabulary size for job category Engineering is 2933.\n",
      "The vocabulary size for job category Education & Training is 3976.\n",
      "The vocabulary size for job category Accounting is 4063.\n",
      "The vocabulary size for job category Human Resources & Recruitment is 3116.\n",
      "The vocabulary size for job category Real Estate & Property is 2633.\n",
      "The vocabulary size for job category Sport & Recreation is 1167.\n",
      "The vocabulary size for job category Legal is 2081.\n",
      "The vocabulary size for job category Hospitality & Tourism is 3702.\n",
      "The vocabulary size for job category Consulting & Strategy is 1083.\n",
      "The vocabulary size for job category Farming, Animals & Conservation is 1083.\n",
      "The vocabulary size for job category Advertising, Arts & Media is 1330.\n",
      "The vocabulary size for job category Insurance & Superannuation is 1464.\n",
      "The vocabulary size for job category Self Employment is 189.\n",
      "The vocabulary size for job category CEO & General Management is 929.\n",
      "The vocabulary size for job category Science & Technology is 1121.\n"
     ]
    }
   ],
   "source": [
    "# vocabulary size after lemmatization\n",
    "for job_category, lemmatized_words in lemmatized_jd.items():\n",
    "    vocab_size = len(set(lemmatized_words))\n",
    "    print(f'The vocabulary size for job category {job_category} is {vocab_size}.')"
   ]
  },
  {
   "cell_type": "code",
   "execution_count": 13,
   "metadata": {},
   "outputs": [],
   "source": [
    "# Stemming\n",
    "from nltk.stem import PorterStemmer\n",
    "ps = PorterStemmer()\n",
    "stem_jd = {}\n",
    "for job_category, tokenized_words in tokenized_jd.items():\n",
    "    stem_jd[job_category]=[]\n",
    "    for w in tokenized_words:\n",
    "        rootword = ps.stem(w)\n",
    "        stem_jd[job_category].append(rootword)\n"
   ]
  },
  {
   "cell_type": "code",
   "execution_count": 14,
   "metadata": {},
   "outputs": [
    {
     "name": "stdout",
     "output_type": "stream",
     "text": [
      "The vocabulary size for job category Retail & Consumer Products is 2619.\n",
      "The vocabulary size for job category Government & Defence is 3515.\n",
      "The vocabulary size for job category Trades & Services is 5365.\n",
      "The vocabulary size for job category Manufacturing, Transport & Logistics is 4101.\n",
      "The vocabulary size for job category Sales is 3506.\n",
      "The vocabulary size for job category Community Services & Development is 2618.\n",
      "The vocabulary size for job category Healthcare & Medical is 5200.\n",
      "The vocabulary size for job category Information & Communication Technology is 5591.\n",
      "The vocabulary size for job category Mining, Resources & Energy is 2289.\n",
      "The vocabulary size for job category Construction is 2920.\n",
      "The vocabulary size for job category Design & Architecture is 1491.\n",
      "The vocabulary size for job category Call Centre & Customer Service is 2345.\n",
      "The vocabulary size for job category Marketing & Communications is 2878.\n",
      "The vocabulary size for job category Administration & Office Support is 3994.\n",
      "The vocabulary size for job category Banking & Financial Services is 2232.\n",
      "The vocabulary size for job category Engineering is 2388.\n",
      "The vocabulary size for job category Education & Training is 3279.\n",
      "The vocabulary size for job category Accounting is 3354.\n",
      "The vocabulary size for job category Human Resources & Recruitment is 2521.\n",
      "The vocabulary size for job category Real Estate & Property is 2171.\n",
      "The vocabulary size for job category Sport & Recreation is 1009.\n",
      "The vocabulary size for job category Legal is 1755.\n",
      "The vocabulary size for job category Hospitality & Tourism is 3095.\n",
      "The vocabulary size for job category Consulting & Strategy is 941.\n",
      "The vocabulary size for job category Farming, Animals & Conservation is 967.\n",
      "The vocabulary size for job category Advertising, Arts & Media is 1170.\n",
      "The vocabulary size for job category Insurance & Superannuation is 1239.\n",
      "The vocabulary size for job category Self Employment is 184.\n",
      "The vocabulary size for job category CEO & General Management is 837.\n",
      "The vocabulary size for job category Science & Technology is 973.\n"
     ]
    }
   ],
   "source": [
    "# vocabulary size after stemming\n",
    "for job_category, stem_words in stem_jd.items():\n",
    "    vocab_size = len(set(stem_words))\n",
    "    print(f'The vocabulary size for job category {job_category} is {vocab_size}.')"
   ]
  },
  {
   "cell_type": "markdown",
   "metadata": {},
   "source": [
    "Comparing the results of vocabulary size obtained from the two deffierent operations lemmatisation and stemming, we find that vocabulary size for each job category after stemming is smalller than after lemmatisation."
   ]
  },
  {
   "cell_type": "markdown",
   "metadata": {},
   "source": [
    "### 2.3 Retokenize"
   ]
  },
  {
   "cell_type": "markdown",
   "metadata": {},
   "source": [
    "Next, we will use spaCy to retokenize frequent noun phrases."
   ]
  },
  {
   "cell_type": "code",
   "execution_count": 15,
   "metadata": {},
   "outputs": [],
   "source": [
    "import spacy\n",
    "nlp = spacy.load(\"en_core_web_sm\")\n",
    "\n",
    "# get retoken text for each job category\n",
    "def get_retoken_text(job_category):\n",
    "    job_corpus = dict_jobs[job_category] \n",
    "    retoken_text_category = []   \n",
    "    for jd in job_corpus:\n",
    "        # create a doc for each job description\n",
    "        jd_doc = nlp(jd.lower())\n",
    "        with jd_doc.retokenize() as retokenizer:\n",
    "            for chunk in jd_doc.noun_chunks:\n",
    "                retokenizer.merge(chunk)\n",
    "        retoken_text_jd = [retoken.text for retoken in jd_doc]\n",
    "        # create a list of lists store retokenized text of each job description\n",
    "        retoken_text_category.append(retoken_text_jd)\n",
    "    return retoken_text_category\n",
    "#print(get_retoken_text('Government & Defence'))        "
   ]
  },
  {
   "cell_type": "code",
   "execution_count": 16,
   "metadata": {},
   "outputs": [
    {
     "name": "stdout",
     "output_type": "stream",
     "text": [
      "{'Retail & Consumer Products': 5029, 'Government & Defence': 7147, 'Trades & Services': 12966, 'Manufacturing, Transport & Logistics': 9116, 'Sales': 7977, 'Community Services & Development': 5308, 'Healthcare & Medical': 12010, 'Information & Communication Technology': 14613, 'Mining, Resources & Energy': 4073, 'Construction': 5868, 'Design & Architecture': 2116, 'Call Centre & Customer Service': 4335, 'Marketing & Communications': 6201, 'Administration & Office Support': 9314, 'Banking & Financial Services': 4156, 'Engineering': 4666, 'Education & Training': 6870, 'Accounting': 7902, 'Human Resources & Recruitment': 5216, 'Real Estate & Property': 4085, 'Sport & Recreation': 1361, 'Legal': 2856, 'Hospitality & Tourism': 5779, 'Consulting & Strategy': 1161, 'Farming, Animals & Conservation': 1101, 'Advertising, Arts & Media': 1383, 'Insurance & Superannuation': 1838, 'Self Employment': 171, 'CEO & General Management': 944, 'Science & Technology': 1199}\n"
     ]
    }
   ],
   "source": [
    "# retokenize each job description for each job category, store all retoken text of all categories in a dict\n",
    "retoken_jd = {}\n",
    "retoken_vocab_size ={}\n",
    "retoken_words_ca={}\n",
    "for job_category in dict_jobs.keys():\n",
    "    retoken_text_ca = get_retoken_text(job_category)\n",
    "    retoken_jd[job_category] = retoken_text_ca\n",
    "    retoken_words_ca[job_category] =[]\n",
    "    for jd in retoken_text_ca:\n",
    "        retoken_words_ca[job_category].extend(jd)\n",
    "    retoken_vocab_size[job_category]=len(set(retoken_words_ca[job_category]))\n",
    "print(retoken_vocab_size) \n",
    "\n",
    "#retoken= retoken_jd['Government & Defence'] \n",
    "#for list in retoken:\n",
    "    #words_list = [words for words in list] \n",
    "#print(len(words_list))"
   ]
  },
  {
   "cell_type": "markdown",
   "metadata": {},
   "source": [
    "### 2.4 Remove stop words\n",
    "\n",
    "Remove stop words (rank words according to TF/IDF). TF-IDF of a word represents how important the word is in the document, the higher TF-IDF score, the more important the word in that document. The lower the IDF value of a word, the less unique it is to any particular document. So we can consider words with lowest TF-IDF values as stop words. Here we consider words with top 10 lowest TFIDF values as stop words."
   ]
  },
  {
   "cell_type": "code",
   "execution_count": 42,
   "metadata": {},
   "outputs": [],
   "source": [
    "from sklearn.feature_extraction.text import TfidfTransformer\n",
    "from sklearn.feature_extraction.text import TfidfVectorizer\n",
    "from sklearn.feature_extraction.text import CountVectorizer\n",
    "from sklearn.pipeline import Pipeline\n",
    "import numpy as np\n",
    "# create a stop words list for each category\n",
    "def stop_words_list(category):\n",
    "    jd_docs=dict_jobs[category]\n",
    "    pipe_jd = Pipeline([('count', CountVectorizer()), ('tfidf', TfidfTransformer())]).fit(jd_docs)\n",
    "\n",
    "    idf_jd = pipe_jd['tfidf'].idf_.tolist()\n",
    "    feature_names= pipe_jd['count'].get_feature_names_out().tolist()\n",
    "    \n",
    "    ordered_idf, ordered_words = zip(*sorted((zip(idf_jd, feature_names))))\n",
    "    sw_list= ordered_words[:30]\n",
    "    return sw_list\n",
    "sw=[]\n",
    "#for category in dict_jobs.keys():\n",
    "    #sw_category = stop_words_list(category)\n",
    "    #sw.extend(sw_category)"
   ]
  },
  {
   "cell_type": "code",
   "execution_count": 43,
   "metadata": {},
   "outputs": [
    {
     "name": "stdout",
     "output_type": "stream",
     "text": [
      "('and', 'to', 'in', 'the', 'for', 'of', 'with', 'experience', 'on', 'be', 'will', 'is', 'you', 'this', 'are', 'or', 'an', 'role', 'engineering', 'team', 'work', 'have', 'your', 'as', 'skills', 'projects', 'our', 'please', 'apply', 'that')\n"
     ]
    }
   ],
   "source": [
    "print(stop_words_list('Engineering'))"
   ]
  },
  {
   "cell_type": "code",
   "execution_count": 17,
   "metadata": {},
   "outputs": [
    {
     "name": "stdout",
     "output_type": "stream",
     "text": [
      "{'Retail & Consumer Products': 5019, 'Government & Defence': 7137, 'Trades & Services': 12956, 'Manufacturing, Transport & Logistics': 9106, 'Sales': 7967, 'Community Services & Development': 5298, 'Healthcare & Medical': 12000, 'Information & Communication Technology': 14603, 'Mining, Resources & Energy': 4063, 'Construction': 5858, 'Design & Architecture': 2106, 'Call Centre & Customer Service': 4325, 'Marketing & Communications': 6191, 'Administration & Office Support': 9304, 'Banking & Financial Services': 4146, 'Engineering': 4656, 'Education & Training': 6860, 'Accounting': 7892, 'Human Resources & Recruitment': 5206, 'Real Estate & Property': 4075, 'Sport & Recreation': 1351, 'Legal': 2846, 'Hospitality & Tourism': 5769, 'Consulting & Strategy': 1151, 'Farming, Animals & Conservation': 1091, 'Advertising, Arts & Media': 1373, 'Insurance & Superannuation': 1828, 'Self Employment': 164, 'CEO & General Management': 934, 'Science & Technology': 1190}\n"
     ]
    }
   ],
   "source": [
    "\n",
    "rm_sw_jd ={}\n",
    "rm_sw_vocab = {}\n",
    "for category, retoken_text in retoken_jd.items():\n",
    "    rm_sw_jd[category]=[]\n",
    "    sw_category = stop_words_list(category)\n",
    "    for jd in retoken_text:\n",
    "        jd_rm_stop = [token for token in jd if token not in sw_category]\n",
    "        rm_sw_jd[category].extend(jd_rm_stop)\n",
    "    rm_sw_vocab[category]=len(set(rm_sw_jd[category]))\n",
    "print(rm_sw_vocab)   \n",
    "    \n"
   ]
  },
  {
   "cell_type": "code",
   "execution_count": 6,
   "metadata": {},
   "outputs": [],
   "source": [
    "from sklearn.feature_extraction.text import CountVectorizer\n",
    "from sklearn.feature_extraction.text import TfidfTransformer\n",
    "from sklearn.feature_extraction.text import TfidfVectorizer \n",
    "\n"
   ]
  },
  {
   "cell_type": "code",
   "execution_count": null,
   "metadata": {},
   "outputs": [],
   "source": [
    "# settings that you use for count vectorizer will go here \n",
    "tfidf_vectorizer=TfidfVectorizer(use_idf=True, stop_words='english') \n",
    "docs=dict_jobs['Engineering']\n",
    "# just send in all your docs here \n",
    "tfidf=tfidf_vectorizer.fit_transform(docs)\n",
    "# get the first vector out (for the first document) \n",
    "pd.DataFrame(tfidf.toarray(),columns=tfidf_vectorizer.get_feature_names())\n",
    "# place tf-idf values in a pandas data frame \n",
    "first_vector_tfidfvectorizer=tfidf[0]\n",
    "df = pd.DataFrame(first_vector_tfidfvectorizer.T.todense(), index=tfidf_vectorizer.get_feature_names(), columns=[\"tfidf\"]) \n",
    "df.sort_values(by=[\"tfidf\"],ascending=False)[:100]"
   ]
  },
  {
   "cell_type": "code",
   "execution_count": 7,
   "metadata": {},
   "outputs": [],
   "source": [
    "# this function is used to help calculate tfidf with retokenizerd text\n",
    "def dummy_tokenizer(docs):\n",
    "    return docs"
   ]
  },
  {
   "cell_type": "code",
   "execution_count": 108,
   "metadata": {},
   "outputs": [],
   "source": [
    "# Data Preprocessing task5\n",
    "# get noun phrase, create a list of area of eaperience for a job category\n",
    "def get_np(job_category):\n",
    "    job_corpus = dict_jobs[job_category] \n",
    "    retoken_np_category = []   \n",
    "    for jd in job_corpus:\n",
    "        retoken_np_jd=[]\n",
    "        # create a doc for each job description\n",
    "        jd_doc = nlp(jd.lower())\n",
    "        for sent in jd_doc.sents:\n",
    "            if \"experience\" in sent.text:\n",
    "                for chunk in sent.noun_chunks:\n",
    "                    if \"experience\" in chunk.text and chunk.root.dep_=='obdj'and chunk.text !='experience':\n",
    "                        retoken_np_jd.append(chunk.text)\n",
    "                    # for pattern e.g. experience in/with mechanical engineering\n",
    "                    if chunk.root.dep_=='pobj' and chunk.root.head.head.lemma_=='experience' and chunk.root.head.head.pos_=='NOUN':\n",
    "                        retoken_np_jd.append(chunk.text)\n",
    "        #retoken_np_jd = [chunk.text for chunk in jd_doc.noun_chunks]\n",
    "        # create a list of lists store retokenized text of each job description\n",
    "        retoken_np_category.append(retoken_np_jd)\n",
    "    #return retoken_np_category\n",
    "    tfidf_vectorize = TfidfVectorizer(\n",
    "    analyzer='word',\n",
    "    tokenizer=dummy_tokenizer,\n",
    "    preprocessor=dummy_tokenizer,\n",
    "    token_pattern=None, stop_words='english')  \n",
    "    tfidf=tfidf_vectorize.fit_transform(retoken_np_category)\n",
    "    experience_list=[]\n",
    "    for jd_tfidf in tfidf:\n",
    "        doc_tfidf=jd_tfidf.toarray().tolist()\n",
    "        feature_names=tfidf_vectorize.get_feature_names_out().tolist()\n",
    "        ordered_tfidf, ordered_words = zip(*sorted((zip(doc_tfidf[0], feature_names)), reverse=True))\n",
    "\n",
    "        #d[d.index.str.contains('experience', case=False)].indexif 'experience'in np]\n",
    "        jd_experience=[np for np in ordered_words[:200]] \n",
    "        experience_list.append(set(jd_experience))\n",
    "        #experience_list.extend(jd_experience)\n",
    "    res = set.intersection(*experience_list)\n",
    "    return res\n",
    "    #return list(set(experience_list))\n",
    "    #tfidf.vocabulary_\n"
   ]
  },
  {
   "cell_type": "code",
   "execution_count": 109,
   "metadata": {},
   "outputs": [
    {
     "name": "stdout",
     "output_type": "stream",
     "text": [
      "194\n",
      "{'provision', 'our diverse range', 'relation', 'the communications environment', 'sound knowledge', 'research', 'the supervision', 'the hris field', 'the legal system', 'rollingstock maintenance', 'senior leadership roles', 'the financial services and superannuation industry', 'the preparation', 'the critical care environment', 'the human synergistics culture and leadership inventory tools', 'the field', 'parking enforcement', 'the scoping', 'vendor operations management', 'the areas', 'mental health', 'the tourism industry', 'the oversight', 'sales', 'regard', 'project', 'overhead wiring', 'the aps', 'negotiation', 'the operations', 'people management', 'the broadcasting industry', 'senior marketing', 'planning and associated legislation', 'the following key selection criteria', 'the planning field', 'media', 'traffic engineering', 'the delivery', 'stakeholder engagement', 'maximo desirable utilities', 'the interpretation', 'proven planning', 'policy writing', 'the boundaries', 'road infrastructure projects', 'negotiation techniques', 'team leadership', 'the investigation', 'microsoft azure technology', 'the principles', 'recommendations', 'speechwriting', 'the area', 'policy development', 'service delivery', 'the following areas', 'the penguin parade', 'staff training', 'multi discipline team environment', 'modelling', 'the role', 'successful project management', 'the above criteria', 'the review', 'process', 'town planning principles', 'tree maintenance', 'testing laboratories', 'report writing', 'patients', 'projects', 'the implementation', 'mobile technologies', 'scheduling and system administration', 'supervision', 'tableau', 'process writing', 'the civil and defence sectors', 'power bi', 'operating computer', 'our customers', 'training', 'onsite risk assessment', 'operation', 'your work', 'waterfall and agile methodology public transport domain knowledge exposure', 'renters implementation', 'scripting', 'medium risk contract development', 'security/investigative work', 'poisons', 'user experience testing', 'related legislative instruments', 'project planning', 'the energy or electricity industry', 'the ability', 'neonatal intensive care', 'the health industry', 'waste collection services', 'social policy', 'nursing education', 'traffic signal systems', 'the minnamurra', 'multiple portfolio management', 'the management', 'road construction', 'timeframe', 'water resources management', 'primary industries', 'planning', 'solution evaluation', 'technologyone', 'relevant tertiary qualifications', 'writing', 'tax fixed asset accounting strong communication skills', 'policy formulation', 'public / media relations', 'research problems', 'parks maintenance', 'production', 'multi-disciplinary teams', 'minor power tools', 'vendor', 'strategic planning', 'similar roles', 'the extraction', 'the full project life cycle', 'vendor management', 'the initiation', 'recruitment', 'the use', 'the film', 'the wa marketplace', \"the south island's largest tertiary, teaching and research hospitals\", 'strategic land use', 'related positions', 'the human services field', 'processing accounts', 'systems change', 'the environmental health field', 'scientific literature review', 'requisite leadership skills', 'policy', 'the public sector', 'strategic demand modelling', 'the seamless integration', 'the design', 'the coordination', 'proven ability', 'the retail industry', 'the registrar level', 'scats', 'the direction', 'the gathering', 'quality assurance', 'the development', 'the technologyone suite', 'the development application process', 'multiple stakeholders', 'safe work practices candidates', 'multiple sectors', 'the local government environment', 'recycling', 'road construction plant', 'the provision', 'paediatric cardiology', 'proven monitoring and evaluation abilities', 'multifaceted project', 'the commercial or public sector', 'the practical application', 'ms excel', 'the planning', 'the construction industry', 'sap finance system', 'the welding/fabrication industry', 'use', 'senior level excellent business analysis skills', 'the victorian planning system', 'project management', 'operations', 'traffic management', 'utility services', 'the electrical distribution industry', 'research and data analysis prior experience', 'one or more technologies', 'solution', 'resource management', 'project scheduling', 'the melbourne market', 'quantitative and economic analysis', 'pavement management systems', 'the jde field', 'proficiency'}\n"
     ]
    }
   ],
   "source": [
    "# an example: noun phrases of area of experience for category Government & Defence\n",
    "en_list=get_np('Government & Defence')\n",
    "print(len(en_list))\n",
    "print(en_list)"
   ]
  },
  {
   "cell_type": "code",
   "execution_count": 90,
   "metadata": {},
   "outputs": [],
   "source": [
    "# create a funtion to get all named entities such as company names for each job category\n",
    "def get_ne(job_category):\n",
    "    location_list=[]\n",
    "    job_corpus = dict_jobs[job_category] \n",
    "    retoken_org_category = []   \n",
    "    #retoken_np_category = []   \n",
    "    for jd in job_corpus:\n",
    "        # create a doc for each job description\n",
    "        jd_doc = nlp(jd)\n",
    "        #with jd_doc.retokenize() as retokenizer:\n",
    "            #for chunk in jd_doc.noun_chunks:\n",
    "                #retokenizer.merge(chunk)\n",
    "        retoken_org_jd = [entity.text for entity in jd_doc.ents if entity.label_=='GPE']\n",
    "        # create a list of lists store retokenized text of each job description\n",
    "        retoken_org_category.append(retoken_org_jd)\n",
    "    #return retoken_np_category\n",
    "    tfidf_vectorize = TfidfVectorizer(\n",
    "    analyzer='word',\n",
    "    tokenizer=dummy_tokenizer,\n",
    "    preprocessor=dummy_tokenizer,\n",
    "    token_pattern=None, stop_words='english')  \n",
    "    tfidf=tfidf_vectorize.fit_transform(retoken_org_category)\n",
    "    company_list=[]\n",
    "    for jd_tfidf in tfidf:\n",
    "        doc_tfidf=jd_tfidf.toarray().tolist()\n",
    "        feature_names=tfidf_vectorize.get_feature_names_out().tolist()\n",
    "        ordered_tfidf, ordered_words = zip(*sorted((zip(doc_tfidf[0], feature_names)), reverse=True))\n",
    "\n",
    "        #d[d.index.str.contains('experience', case=False)].index\n",
    "        \n",
    "        company_list.extend(ordered_words[:50])\n",
    "    return set(company_list)\n",
    "   "
   ]
  },
  {
   "cell_type": "code",
   "execution_count": 91,
   "metadata": {},
   "outputs": [
    {
     "name": "stdout",
     "output_type": "stream",
     "text": [
      "{'Papua New Guinea', 'Silverwater', 'Brazil', 'Warwick', 'Victoria', 'Strong', 'Newcastle', 'Kristine.McCormack@jbssa.com.au', 'aÂ', 'Us', 'Perth', 'North Sydney', 'exp.', 'St Leonards', 'Canada', 'Sydney', 'DC', 'Mackay', 'New South Wales', 'HSES', 'Understand', 'Notting Hill', 'North Queensland', 'SAP', 'Revit Past', 'Lubrizol', 'Laing', 'Australia', 'New Zealand', 'Auckland', 'Brisbane', 'Peru', 'WA', 'PLC', 'theirÂ', 'theÂ', 'SCADA', 'Kaftan', 'Maintenance', 'Revit', 'Melbourne', 'Brooklyn Plant', 'Shepparton', 'Cardno', 'MD', 'Linkedin'}\n"
     ]
    },
    {
     "name": "stderr",
     "output_type": "stream",
     "text": [
      "C:\\Users\\jialingliu\\.conda\\envs\\cits4012\\lib\\site-packages\\sklearn\\feature_extraction\\text.py:396: UserWarning: Your stop_words may be inconsistent with your preprocessing. Tokenizing the stop words generated tokens ['b', 'c', 'd', 'e', 'f', 'g', 'h', 'k', 'l', 'm', 'n', 'o', 'p', 'r', 's', 't', 'u', 'v', 'w', 'x', 'y'] not in stop_words.\n",
      "  warnings.warn(\n"
     ]
    }
   ],
   "source": [
    "# an example that output the locations mentioned in the job category Engineering\n",
    "ne=get_ne('Engineering')\n",
    "print(ne)"
   ]
  },
  {
   "cell_type": "markdown",
   "metadata": {},
   "source": [
    "As we can see the output named entities of location in job category of Engineering, some locations are not in Australia such as 'Canada','Peru', and some words are not locations such as 'Linkedin','Maintenance'. The results extracted form the job descriptions look like not very useful. So we considered to use the structured information of locations in the dataset."
   ]
  },
  {
   "cell_type": "code",
   "execution_count": 12,
   "metadata": {},
   "outputs": [],
   "source": [
    "import spacy\n",
    "nlp = spacy.load(\"en_core_web_sm\")"
   ]
  },
  {
   "cell_type": "code",
   "execution_count": 111,
   "metadata": {},
   "outputs": [],
   "source": [
    "ent_dic={}\n",
    "for category in dict_jobs.keys():\n",
    "    ent_dic[category]={}\n",
    "    ent_dic[category][\"experience\"]=get_np(category)\n",
    "    ent_dic[category][\"job names\"]= list(set(data[data[\"category\"]==category]['job_title']))\n",
    "    ent_dic[category]['location']= list(set(data[data[\"category\"]==category]['city']))\n",
    "    ent_dic[category]['company'] = list(set(data[data[\"category\"]==category]['company_name']))"
   ]
  },
  {
   "cell_type": "code",
   "execution_count": 149,
   "metadata": {},
   "outputs": [],
   "source": [
    "# create a function, parse each job description, and extract experience information\n",
    "def parse_jd(data):\n",
    "    exper_info=[]\n",
    "    jd_data=data['job_description']\n",
    "    category=data['category']\n",
    "    for i in range(30000):\n",
    "        jd_info=[]\n",
    "        jd=str(jd_data[i])\n",
    "        doc=nlp(jd)\n",
    "        for sent in doc.sents:\n",
    "            for i in range(len(sent)):\n",
    "                if sent[i].lemma_=='experience' and sent[i].pos_=='NOUN':\n",
    "                    for chunk in sent[i:].noun_chunks:\n",
    "                        if chunk.root.dep_=='pobj' and chunk.root.head.head.lemma_=='experience':\n",
    "                            jd_info.append(chunk.text)\n",
    "        exper_info.append(list(set(jd_info)))\n",
    "    return exper_info\n"
   ]
  },
  {
   "cell_type": "code",
   "execution_count": 151,
   "metadata": {},
   "outputs": [],
   "source": [
    "# extract the experience information of each job description\n",
    "exper_info = parse_jd(data)"
   ]
  },
  {
   "cell_type": "markdown",
   "metadata": {},
   "source": [
    "We store the data after processing in a new dataset new_data."
   ]
  },
  {
   "cell_type": "code",
   "execution_count": null,
   "metadata": {},
   "outputs": [],
   "source": [
    "new_data=data[['category', 'city', 'company_name', 'job_description', 'job_title', 'job_type', 'salary_offered', 'state','url']]\n",
    "new_data['experience_info']=exper_info\n"
   ]
  },
  {
   "cell_type": "code",
   "execution_count": null,
   "metadata": {},
   "outputs": [],
   "source": [
    "new_data[\"job_title\"]=new_data[\"job_title\"].str.lower()\n",
    "new_data[\"category\"]=new_data[\"category\"].str.lower()\n",
    "new_data[\"job_type\"]=new_data[\"job_type\"].str.lower()\n"
   ]
  },
  {
   "cell_type": "code",
   "execution_count": 212,
   "metadata": {},
   "outputs": [
    {
     "data": {
      "text/html": [
       "<div>\n",
       "<style scoped>\n",
       "    .dataframe tbody tr th:only-of-type {\n",
       "        vertical-align: middle;\n",
       "    }\n",
       "\n",
       "    .dataframe tbody tr th {\n",
       "        vertical-align: top;\n",
       "    }\n",
       "\n",
       "    .dataframe thead th {\n",
       "        text-align: right;\n",
       "    }\n",
       "</style>\n",
       "<table border=\"1\" class=\"dataframe\">\n",
       "  <thead>\n",
       "    <tr style=\"text-align: right;\">\n",
       "      <th></th>\n",
       "      <th>category</th>\n",
       "      <th>city</th>\n",
       "      <th>company_name</th>\n",
       "      <th>job_description</th>\n",
       "      <th>job_title</th>\n",
       "      <th>job_type</th>\n",
       "      <th>salary_offered</th>\n",
       "      <th>state</th>\n",
       "      <th>url</th>\n",
       "      <th>experience_info</th>\n",
       "    </tr>\n",
       "  </thead>\n",
       "  <tbody>\n",
       "    <tr>\n",
       "      <th>0</th>\n",
       "      <td>retail &amp; consumer products</td>\n",
       "      <td>Sydney</td>\n",
       "      <td>Frontline Executive Retail Sydney</td>\n",
       "      <td>Have you had 10 years experience in fresh pro...</td>\n",
       "      <td>store manager - fresh produce</td>\n",
       "      <td>full time</td>\n",
       "      <td>$100k Base + Super + Benefits</td>\n",
       "      <td>North Shore &amp; Northern Beaches</td>\n",
       "      <td>https://www.seek.com.au/job/35989382</td>\n",
       "      <td>[fresh produce, our customers]</td>\n",
       "    </tr>\n",
       "    <tr>\n",
       "      <th>1</th>\n",
       "      <td>government &amp; defence</td>\n",
       "      <td>Brisbane</td>\n",
       "      <td>Powerlink</td>\n",
       "      <td>The Opportunity: The Client Solution Analyst ...</td>\n",
       "      <td>client solution analyst</td>\n",
       "      <td>full time</td>\n",
       "      <td>Excellent remuneration packages</td>\n",
       "      <td>Northern Suburbs</td>\n",
       "      <td>https://www.seek.com.au/job/35989272</td>\n",
       "      <td>[ITSM approach]</td>\n",
       "    </tr>\n",
       "    <tr>\n",
       "      <th>2</th>\n",
       "      <td>trades &amp; services</td>\n",
       "      <td>Sydney</td>\n",
       "      <td>Richard Jay Laundry</td>\n",
       "      <td>An innovative business development role for a...</td>\n",
       "      <td>service technician / installer - nsw</td>\n",
       "      <td>full time</td>\n",
       "      <td>NaN</td>\n",
       "      <td>Parramatta &amp; Western Suburbs</td>\n",
       "      <td>https://www.seek.com.au/job/35989270</td>\n",
       "      <td>[a related field, a similar role]</td>\n",
       "    </tr>\n",
       "    <tr>\n",
       "      <th>3</th>\n",
       "      <td>trades &amp; services</td>\n",
       "      <td>Melbourne</td>\n",
       "      <td>Adaptalift Hyster</td>\n",
       "      <td>About the role: We are seeking an Automotive W...</td>\n",
       "      <td>workshop technician i material handling equipment</td>\n",
       "      <td>full time</td>\n",
       "      <td>NaN</td>\n",
       "      <td>Bayside &amp; South Eastern Suburbs</td>\n",
       "      <td>https://www.seek.com.au/job/35993203</td>\n",
       "      <td>[]</td>\n",
       "    </tr>\n",
       "    <tr>\n",
       "      <th>4</th>\n",
       "      <td>trades &amp; services</td>\n",
       "      <td>Adelaide</td>\n",
       "      <td>Bakers Delight G&amp;M</td>\n",
       "      <td>Â Early starts and weekend shifts. No experie...</td>\n",
       "      <td>apprenticeship junior baker</td>\n",
       "      <td>full time</td>\n",
       "      <td>NaN</td>\n",
       "      <td>NaN</td>\n",
       "      <td>https://www.seek.com.au/job/35991578</td>\n",
       "      <td>[]</td>\n",
       "    </tr>\n",
       "  </tbody>\n",
       "</table>\n",
       "</div>"
      ],
      "text/plain": [
       "                     category       city                       company_name  \\\n",
       "0  retail & consumer products     Sydney  Frontline Executive Retail Sydney   \n",
       "1        government & defence   Brisbane                          Powerlink   \n",
       "2           trades & services     Sydney                Richard Jay Laundry   \n",
       "3           trades & services  Melbourne                  Adaptalift Hyster   \n",
       "4           trades & services   Adelaide                 Bakers Delight G&M   \n",
       "\n",
       "                                     job_description  \\\n",
       "0   Have you had 10 years experience in fresh pro...   \n",
       "1   The Opportunity: The Client Solution Analyst ...   \n",
       "2   An innovative business development role for a...   \n",
       "3  About the role: We are seeking an Automotive W...   \n",
       "4   Â Early starts and weekend shifts. No experie...   \n",
       "\n",
       "                                           job_title   job_type  \\\n",
       "0                      store manager - fresh produce  full time   \n",
       "1                            client solution analyst  full time   \n",
       "2               service technician / installer - nsw  full time   \n",
       "3  workshop technician i material handling equipment  full time   \n",
       "4                        apprenticeship junior baker  full time   \n",
       "\n",
       "                    salary_offered                            state  \\\n",
       "0    $100k Base + Super + Benefits   North Shore & Northern Beaches   \n",
       "1  Excellent remuneration packages                 Northern Suburbs   \n",
       "2                              NaN     Parramatta & Western Suburbs   \n",
       "3                              NaN  Bayside & South Eastern Suburbs   \n",
       "4                              NaN                              NaN   \n",
       "\n",
       "                                    url                    experience_info  \n",
       "0  https://www.seek.com.au/job/35989382     [fresh produce, our customers]  \n",
       "1  https://www.seek.com.au/job/35989272                    [ITSM approach]  \n",
       "2  https://www.seek.com.au/job/35989270  [a related field, a similar role]  \n",
       "3  https://www.seek.com.au/job/35993203                                 []  \n",
       "4  https://www.seek.com.au/job/35991578                                 []  "
      ]
     },
     "execution_count": 212,
     "metadata": {},
     "output_type": "execute_result"
    }
   ],
   "source": [
    "# new dataset\n",
    "new_data.head()"
   ]
  },
  {
   "cell_type": "markdown",
   "metadata": {},
   "source": [
    "## 3 Linguistic Patterns "
   ]
  },
  {
   "cell_type": "markdown",
   "metadata": {},
   "source": [
    "### 3.1 Patterns for job name"
   ]
  },
  {
   "cell_type": "code",
   "execution_count": 461,
   "metadata": {},
   "outputs": [],
   "source": [
    "from spacy.matcher import Matcher\n",
    "job_synonyms=['job', 'work','position']\n",
    "# this list is for removing matches such as a full time job\n",
    "job_type_list=['full time', 'part time', 'casual']\n",
    "# pattern for job name, job category\n",
    "# pattern 1: NOUN+job(e.g. I want to find a engineering job)\n",
    "name_pattern1 =[{\"POS\": \"NOUN\"}, {\"LEMMA\": {\"IN\": job_synonyms}}]\n",
    "\n",
    "def category_pattern1(sent):\n",
    "    name=[]\n",
    "    matcher = Matcher(nlp.vocab)\n",
    "    matcher.add(\"job_name\", [name_pattern1])\n",
    "    matches = matcher(nlp(sent), as_spans=True)\n",
    "    for span in matches:\n",
    "        for i in range(len(span)):\n",
    "            if span[i].text in job_synonyms:\n",
    "                name.append(span[:i].text)\n",
    "    return name"
   ]
  },
  {
   "cell_type": "code",
   "execution_count": 463,
   "metadata": {},
   "outputs": [
    {
     "data": {
      "text/plain": [
       "['construction']"
      ]
     },
     "execution_count": 463,
     "metadata": {},
     "output_type": "execute_result"
    }
   ],
   "source": [
    "# example for category_pattern1\n",
    "text_cp1=\"I'm looking for a construction work\"\n",
    "category_pattern1(text_cp1)"
   ]
  },
  {
   "cell_type": "code",
   "execution_count": 553,
   "metadata": {},
   "outputs": [
    {
     "name": "stdout",
     "output_type": "stream",
     "text": [
      "I looking\n",
      "a job for\n",
      "construction in\n"
     ]
    },
    {
     "data": {
      "text/html": [
       "<span class=\"tex2jax_ignore\"><svg xmlns=\"http://www.w3.org/2000/svg\" xmlns:xlink=\"http://www.w3.org/1999/xlink\" xml:lang=\"en\" id=\"4a7a584f3d4f4e41989d57e1ee01a551-0\" class=\"displacy\" width=\"1450\" height=\"312.0\" direction=\"ltr\" style=\"max-width: none; height: 312.0px; color: #000000; background: #ffffff; font-family: Arial; direction: ltr\">\n",
       "<text class=\"displacy-token\" fill=\"currentColor\" text-anchor=\"middle\" y=\"222.0\">\n",
       "    <tspan class=\"displacy-word\" fill=\"currentColor\" x=\"50\">I</tspan>\n",
       "    <tspan class=\"displacy-tag\" dy=\"2em\" fill=\"currentColor\" x=\"50\">PRON</tspan>\n",
       "</text>\n",
       "\n",
       "<text class=\"displacy-token\" fill=\"currentColor\" text-anchor=\"middle\" y=\"222.0\">\n",
       "    <tspan class=\"displacy-word\" fill=\"currentColor\" x=\"225\">'m</tspan>\n",
       "    <tspan class=\"displacy-tag\" dy=\"2em\" fill=\"currentColor\" x=\"225\">AUX</tspan>\n",
       "</text>\n",
       "\n",
       "<text class=\"displacy-token\" fill=\"currentColor\" text-anchor=\"middle\" y=\"222.0\">\n",
       "    <tspan class=\"displacy-word\" fill=\"currentColor\" x=\"400\">looking</tspan>\n",
       "    <tspan class=\"displacy-tag\" dy=\"2em\" fill=\"currentColor\" x=\"400\">VERB</tspan>\n",
       "</text>\n",
       "\n",
       "<text class=\"displacy-token\" fill=\"currentColor\" text-anchor=\"middle\" y=\"222.0\">\n",
       "    <tspan class=\"displacy-word\" fill=\"currentColor\" x=\"575\">for</tspan>\n",
       "    <tspan class=\"displacy-tag\" dy=\"2em\" fill=\"currentColor\" x=\"575\">ADP</tspan>\n",
       "</text>\n",
       "\n",
       "<text class=\"displacy-token\" fill=\"currentColor\" text-anchor=\"middle\" y=\"222.0\">\n",
       "    <tspan class=\"displacy-word\" fill=\"currentColor\" x=\"750\">a</tspan>\n",
       "    <tspan class=\"displacy-tag\" dy=\"2em\" fill=\"currentColor\" x=\"750\">DET</tspan>\n",
       "</text>\n",
       "\n",
       "<text class=\"displacy-token\" fill=\"currentColor\" text-anchor=\"middle\" y=\"222.0\">\n",
       "    <tspan class=\"displacy-word\" fill=\"currentColor\" x=\"925\">job</tspan>\n",
       "    <tspan class=\"displacy-tag\" dy=\"2em\" fill=\"currentColor\" x=\"925\">NOUN</tspan>\n",
       "</text>\n",
       "\n",
       "<text class=\"displacy-token\" fill=\"currentColor\" text-anchor=\"middle\" y=\"222.0\">\n",
       "    <tspan class=\"displacy-word\" fill=\"currentColor\" x=\"1100\">in</tspan>\n",
       "    <tspan class=\"displacy-tag\" dy=\"2em\" fill=\"currentColor\" x=\"1100\">ADP</tspan>\n",
       "</text>\n",
       "\n",
       "<text class=\"displacy-token\" fill=\"currentColor\" text-anchor=\"middle\" y=\"222.0\">\n",
       "    <tspan class=\"displacy-word\" fill=\"currentColor\" x=\"1275\">construction</tspan>\n",
       "    <tspan class=\"displacy-tag\" dy=\"2em\" fill=\"currentColor\" x=\"1275\">NOUN</tspan>\n",
       "</text>\n",
       "\n",
       "<g class=\"displacy-arrow\">\n",
       "    <path class=\"displacy-arc\" id=\"arrow-4a7a584f3d4f4e41989d57e1ee01a551-0-0\" stroke-width=\"2px\" d=\"M70,177.0 C70,2.0 400.0,2.0 400.0,177.0\" fill=\"none\" stroke=\"currentColor\"/>\n",
       "    <text dy=\"1.25em\" style=\"font-size: 0.8em; letter-spacing: 1px\">\n",
       "        <textPath xlink:href=\"#arrow-4a7a584f3d4f4e41989d57e1ee01a551-0-0\" class=\"displacy-label\" startOffset=\"50%\" side=\"left\" fill=\"currentColor\" text-anchor=\"middle\">nsubj</textPath>\n",
       "    </text>\n",
       "    <path class=\"displacy-arrowhead\" d=\"M70,179.0 L62,167.0 78,167.0\" fill=\"currentColor\"/>\n",
       "</g>\n",
       "\n",
       "<g class=\"displacy-arrow\">\n",
       "    <path class=\"displacy-arc\" id=\"arrow-4a7a584f3d4f4e41989d57e1ee01a551-0-1\" stroke-width=\"2px\" d=\"M245,177.0 C245,89.5 395.0,89.5 395.0,177.0\" fill=\"none\" stroke=\"currentColor\"/>\n",
       "    <text dy=\"1.25em\" style=\"font-size: 0.8em; letter-spacing: 1px\">\n",
       "        <textPath xlink:href=\"#arrow-4a7a584f3d4f4e41989d57e1ee01a551-0-1\" class=\"displacy-label\" startOffset=\"50%\" side=\"left\" fill=\"currentColor\" text-anchor=\"middle\">aux</textPath>\n",
       "    </text>\n",
       "    <path class=\"displacy-arrowhead\" d=\"M245,179.0 L237,167.0 253,167.0\" fill=\"currentColor\"/>\n",
       "</g>\n",
       "\n",
       "<g class=\"displacy-arrow\">\n",
       "    <path class=\"displacy-arc\" id=\"arrow-4a7a584f3d4f4e41989d57e1ee01a551-0-2\" stroke-width=\"2px\" d=\"M420,177.0 C420,89.5 570.0,89.5 570.0,177.0\" fill=\"none\" stroke=\"currentColor\"/>\n",
       "    <text dy=\"1.25em\" style=\"font-size: 0.8em; letter-spacing: 1px\">\n",
       "        <textPath xlink:href=\"#arrow-4a7a584f3d4f4e41989d57e1ee01a551-0-2\" class=\"displacy-label\" startOffset=\"50%\" side=\"left\" fill=\"currentColor\" text-anchor=\"middle\">prep</textPath>\n",
       "    </text>\n",
       "    <path class=\"displacy-arrowhead\" d=\"M570.0,179.0 L578.0,167.0 562.0,167.0\" fill=\"currentColor\"/>\n",
       "</g>\n",
       "\n",
       "<g class=\"displacy-arrow\">\n",
       "    <path class=\"displacy-arc\" id=\"arrow-4a7a584f3d4f4e41989d57e1ee01a551-0-3\" stroke-width=\"2px\" d=\"M770,177.0 C770,89.5 920.0,89.5 920.0,177.0\" fill=\"none\" stroke=\"currentColor\"/>\n",
       "    <text dy=\"1.25em\" style=\"font-size: 0.8em; letter-spacing: 1px\">\n",
       "        <textPath xlink:href=\"#arrow-4a7a584f3d4f4e41989d57e1ee01a551-0-3\" class=\"displacy-label\" startOffset=\"50%\" side=\"left\" fill=\"currentColor\" text-anchor=\"middle\">det</textPath>\n",
       "    </text>\n",
       "    <path class=\"displacy-arrowhead\" d=\"M770,179.0 L762,167.0 778,167.0\" fill=\"currentColor\"/>\n",
       "</g>\n",
       "\n",
       "<g class=\"displacy-arrow\">\n",
       "    <path class=\"displacy-arc\" id=\"arrow-4a7a584f3d4f4e41989d57e1ee01a551-0-4\" stroke-width=\"2px\" d=\"M595,177.0 C595,2.0 925.0,2.0 925.0,177.0\" fill=\"none\" stroke=\"currentColor\"/>\n",
       "    <text dy=\"1.25em\" style=\"font-size: 0.8em; letter-spacing: 1px\">\n",
       "        <textPath xlink:href=\"#arrow-4a7a584f3d4f4e41989d57e1ee01a551-0-4\" class=\"displacy-label\" startOffset=\"50%\" side=\"left\" fill=\"currentColor\" text-anchor=\"middle\">pobj</textPath>\n",
       "    </text>\n",
       "    <path class=\"displacy-arrowhead\" d=\"M925.0,179.0 L933.0,167.0 917.0,167.0\" fill=\"currentColor\"/>\n",
       "</g>\n",
       "\n",
       "<g class=\"displacy-arrow\">\n",
       "    <path class=\"displacy-arc\" id=\"arrow-4a7a584f3d4f4e41989d57e1ee01a551-0-5\" stroke-width=\"2px\" d=\"M945,177.0 C945,89.5 1095.0,89.5 1095.0,177.0\" fill=\"none\" stroke=\"currentColor\"/>\n",
       "    <text dy=\"1.25em\" style=\"font-size: 0.8em; letter-spacing: 1px\">\n",
       "        <textPath xlink:href=\"#arrow-4a7a584f3d4f4e41989d57e1ee01a551-0-5\" class=\"displacy-label\" startOffset=\"50%\" side=\"left\" fill=\"currentColor\" text-anchor=\"middle\">prep</textPath>\n",
       "    </text>\n",
       "    <path class=\"displacy-arrowhead\" d=\"M1095.0,179.0 L1103.0,167.0 1087.0,167.0\" fill=\"currentColor\"/>\n",
       "</g>\n",
       "\n",
       "<g class=\"displacy-arrow\">\n",
       "    <path class=\"displacy-arc\" id=\"arrow-4a7a584f3d4f4e41989d57e1ee01a551-0-6\" stroke-width=\"2px\" d=\"M1120,177.0 C1120,89.5 1270.0,89.5 1270.0,177.0\" fill=\"none\" stroke=\"currentColor\"/>\n",
       "    <text dy=\"1.25em\" style=\"font-size: 0.8em; letter-spacing: 1px\">\n",
       "        <textPath xlink:href=\"#arrow-4a7a584f3d4f4e41989d57e1ee01a551-0-6\" class=\"displacy-label\" startOffset=\"50%\" side=\"left\" fill=\"currentColor\" text-anchor=\"middle\">pobj</textPath>\n",
       "    </text>\n",
       "    <path class=\"displacy-arrowhead\" d=\"M1270.0,179.0 L1278.0,167.0 1262.0,167.0\" fill=\"currentColor\"/>\n",
       "</g>\n",
       "</svg></span>"
      ],
      "text/plain": [
       "<IPython.core.display.HTML object>"
      ]
     },
     "metadata": {},
     "output_type": "display_data"
    }
   ],
   "source": [
    "p2=nlp(\"I'm looking for a job in construction\")\n",
    "for chunk in p2.noun_chunks:\n",
    "    print(chunk.text, chunk.root.head.text)\n",
    "displacy.render(p2, style='dep')"
   ]
  },
  {
   "cell_type": "code",
   "execution_count": 447,
   "metadata": {},
   "outputs": [],
   "source": [
    "# design pattern using dependency trees\n",
    "# ['job', 'work','position']+prep+pobj (e.g. I'm looking for a job in construction)\n",
    "def category_pattern2(sent):\n",
    "    doc=nlp(sent)\n",
    "    matches=[]\n",
    "    for chunk in doc.noun_chunks:\n",
    "        if chunk.root.dep_=='pobj'and chunk.root.head.dep_=='prep' and chunk.root.head.head.lemma_ in job_synonyms:\n",
    "            if len(chunk.ents)==0:\n",
    "                matches.append(chunk.text)\n",
    "    return matches\n",
    "\n",
    "                \n",
    "\n",
    "            "
   ]
  },
  {
   "cell_type": "code",
   "execution_count": 448,
   "metadata": {},
   "outputs": [
    {
     "data": {
      "text/plain": [
       "['construction']"
      ]
     },
     "execution_count": 448,
     "metadata": {},
     "output_type": "execute_result"
    }
   ],
   "source": [
    "# example for category_pattern2\n",
    "text_cp2=\"I'm looking for a job in construction\"\n",
    "category_pattern2(text_cp2)"
   ]
  },
  {
   "cell_type": "markdown",
   "metadata": {},
   "source": [
    "### 3.2 Patterns for location"
   ]
  },
  {
   "cell_type": "code",
   "execution_count": 195,
   "metadata": {},
   "outputs": [],
   "source": [
    "# pattern for location\n",
    "# pattern1: in + GPE (e.g. find me a job in Sydney)\n",
    "l_pattern1 = [{\"LOWER\": \"in\"}, {\"ENT_TYPE\": \"GPE\", \"OP\":\"+\"}]\n",
    "# pattern2: near + GPE (e.g. find me a job near/around Perth)\n",
    "l_pattern2 = [{\"LOWER\": {\"IN\":[\"near\",\"around\"]}}, {\"ENT_TYPE\": \"GPE\", \"OP\":\"+\"}]\n",
    "def loc_pattern(sent):\n",
    "    matcher = Matcher(nlp.vocab)\n",
    "    matcher.add(\"location\", [l_pattern1, l_pattern2])\n",
    "    matches = matcher(nlp(sent), as_spans=True)\n",
    "    return matches\n"
   ]
  },
  {
   "cell_type": "code",
   "execution_count": 465,
   "metadata": {},
   "outputs": [
    {
     "data": {
      "text/plain": [
       "[in Sydney]"
      ]
     },
     "execution_count": 465,
     "metadata": {},
     "output_type": "execute_result"
    }
   ],
   "source": [
    "# example1\n",
    "loc_p1=\"find me a job in Sydney\"\n",
    "loc_pattern(loc_p1)"
   ]
  },
  {
   "cell_type": "code",
   "execution_count": 466,
   "metadata": {},
   "outputs": [
    {
     "data": {
      "text/plain": [
       "[around Perth]"
      ]
     },
     "execution_count": 466,
     "metadata": {},
     "output_type": "execute_result"
    }
   ],
   "source": [
    "#example2\n",
    "loc_p2='find me a job around Perth'\n",
    "loc_pattern(loc_p2)"
   ]
  },
  {
   "cell_type": "markdown",
   "metadata": {},
   "source": [
    "### 3.3 Patterns for company name"
   ]
  },
  {
   "cell_type": "code",
   "execution_count": 297,
   "metadata": {},
   "outputs": [],
   "source": [
    "# pattern for company name\n",
    "# pattern1: at + ORG (e.g. I'd like to work at Woolworth, find me a job.)\n",
    "company_pattern1 = [{\"LOWER\": \"at\"}, {\"ENT_TYPE\": \"ORG\", \"OP\":\"+\"}]\n",
    "# pattern2: a + ORG + job (e.g. I'd like to apply for a Coles job.)\n",
    "company_pattern2 = [{\"LOWER\": \"a\"}, {\"ENT_TYPE\": \"ORG\", \"OP\":\"+\"}, {\"LOWER\": \"job\"}]\n",
    "def com_pattern(sent):\n",
    "    matcher = Matcher(nlp.vocab)\n",
    "    matcher.add(\"company\", [company_pattern1,company_pattern2])\n",
    "    matches = matcher(nlp(sent), as_spans=True)\n",
    "    return matches\n",
    "\n"
   ]
  },
  {
   "cell_type": "code",
   "execution_count": 557,
   "metadata": {},
   "outputs": [
    {
     "name": "stdout",
     "output_type": "stream",
     "text": [
      "[at McDonald]\n",
      "McDonald ORG\n"
     ]
    }
   ],
   "source": [
    "#example1\n",
    "com_p1=\"I'd like to work at McDonald, find me a job.\"\n",
    "m=com_pattern(com_p1)\n",
    "print(m)\n",
    "for s in m:\n",
    "    for ent in s.ents:\n",
    "        print(ent.text, ent.label_)"
   ]
  },
  {
   "cell_type": "code",
   "execution_count": 558,
   "metadata": {},
   "outputs": [
    {
     "data": {
      "text/plain": [
       "[a Google job]"
      ]
     },
     "execution_count": 558,
     "metadata": {},
     "output_type": "execute_result"
    }
   ],
   "source": [
    "#example2\n",
    "com_p2=\"I'd like to apply for a Google job\"\n",
    "com_pattern(com_p2)"
   ]
  },
  {
   "cell_type": "markdown",
   "metadata": {},
   "source": [
    "### 3.4 Patterns for job type"
   ]
  },
  {
   "cell_type": "code",
   "execution_count": 334,
   "metadata": {},
   "outputs": [
    {
     "data": {
      "text/html": [
       "<span class=\"tex2jax_ignore\"><svg xmlns=\"http://www.w3.org/2000/svg\" xmlns:xlink=\"http://www.w3.org/1999/xlink\" xml:lang=\"en\" id=\"1286e33eccdb4e27ad37bf74d24152c6-0\" class=\"displacy\" width=\"1100\" height=\"399.5\" direction=\"ltr\" style=\"max-width: none; height: 399.5px; color: #000000; background: #ffffff; font-family: Arial; direction: ltr\">\n",
       "<text class=\"displacy-token\" fill=\"currentColor\" text-anchor=\"middle\" y=\"309.5\">\n",
       "    <tspan class=\"displacy-word\" fill=\"currentColor\" x=\"50\">find</tspan>\n",
       "    <tspan class=\"displacy-tag\" dy=\"2em\" fill=\"currentColor\" x=\"50\">VERB</tspan>\n",
       "</text>\n",
       "\n",
       "<text class=\"displacy-token\" fill=\"currentColor\" text-anchor=\"middle\" y=\"309.5\">\n",
       "    <tspan class=\"displacy-word\" fill=\"currentColor\" x=\"225\">me</tspan>\n",
       "    <tspan class=\"displacy-tag\" dy=\"2em\" fill=\"currentColor\" x=\"225\">PRON</tspan>\n",
       "</text>\n",
       "\n",
       "<text class=\"displacy-token\" fill=\"currentColor\" text-anchor=\"middle\" y=\"309.5\">\n",
       "    <tspan class=\"displacy-word\" fill=\"currentColor\" x=\"400\">a</tspan>\n",
       "    <tspan class=\"displacy-tag\" dy=\"2em\" fill=\"currentColor\" x=\"400\">DET</tspan>\n",
       "</text>\n",
       "\n",
       "<text class=\"displacy-token\" fill=\"currentColor\" text-anchor=\"middle\" y=\"309.5\">\n",
       "    <tspan class=\"displacy-word\" fill=\"currentColor\" x=\"575\">part</tspan>\n",
       "    <tspan class=\"displacy-tag\" dy=\"2em\" fill=\"currentColor\" x=\"575\">NOUN</tspan>\n",
       "</text>\n",
       "\n",
       "<text class=\"displacy-token\" fill=\"currentColor\" text-anchor=\"middle\" y=\"309.5\">\n",
       "    <tspan class=\"displacy-word\" fill=\"currentColor\" x=\"750\">time</tspan>\n",
       "    <tspan class=\"displacy-tag\" dy=\"2em\" fill=\"currentColor\" x=\"750\">NOUN</tspan>\n",
       "</text>\n",
       "\n",
       "<text class=\"displacy-token\" fill=\"currentColor\" text-anchor=\"middle\" y=\"309.5\">\n",
       "    <tspan class=\"displacy-word\" fill=\"currentColor\" x=\"925\">job</tspan>\n",
       "    <tspan class=\"displacy-tag\" dy=\"2em\" fill=\"currentColor\" x=\"925\">NOUN</tspan>\n",
       "</text>\n",
       "\n",
       "<g class=\"displacy-arrow\">\n",
       "    <path class=\"displacy-arc\" id=\"arrow-1286e33eccdb4e27ad37bf74d24152c6-0-0\" stroke-width=\"2px\" d=\"M70,264.5 C70,177.0 215.0,177.0 215.0,264.5\" fill=\"none\" stroke=\"currentColor\"/>\n",
       "    <text dy=\"1.25em\" style=\"font-size: 0.8em; letter-spacing: 1px\">\n",
       "        <textPath xlink:href=\"#arrow-1286e33eccdb4e27ad37bf74d24152c6-0-0\" class=\"displacy-label\" startOffset=\"50%\" side=\"left\" fill=\"currentColor\" text-anchor=\"middle\">dobj</textPath>\n",
       "    </text>\n",
       "    <path class=\"displacy-arrowhead\" d=\"M215.0,266.5 L223.0,254.5 207.0,254.5\" fill=\"currentColor\"/>\n",
       "</g>\n",
       "\n",
       "<g class=\"displacy-arrow\">\n",
       "    <path class=\"displacy-arc\" id=\"arrow-1286e33eccdb4e27ad37bf74d24152c6-0-1\" stroke-width=\"2px\" d=\"M420,264.5 C420,89.5 920.0,89.5 920.0,264.5\" fill=\"none\" stroke=\"currentColor\"/>\n",
       "    <text dy=\"1.25em\" style=\"font-size: 0.8em; letter-spacing: 1px\">\n",
       "        <textPath xlink:href=\"#arrow-1286e33eccdb4e27ad37bf74d24152c6-0-1\" class=\"displacy-label\" startOffset=\"50%\" side=\"left\" fill=\"currentColor\" text-anchor=\"middle\">det</textPath>\n",
       "    </text>\n",
       "    <path class=\"displacy-arrowhead\" d=\"M420,266.5 L412,254.5 428,254.5\" fill=\"currentColor\"/>\n",
       "</g>\n",
       "\n",
       "<g class=\"displacy-arrow\">\n",
       "    <path class=\"displacy-arc\" id=\"arrow-1286e33eccdb4e27ad37bf74d24152c6-0-2\" stroke-width=\"2px\" d=\"M595,264.5 C595,177.0 740.0,177.0 740.0,264.5\" fill=\"none\" stroke=\"currentColor\"/>\n",
       "    <text dy=\"1.25em\" style=\"font-size: 0.8em; letter-spacing: 1px\">\n",
       "        <textPath xlink:href=\"#arrow-1286e33eccdb4e27ad37bf74d24152c6-0-2\" class=\"displacy-label\" startOffset=\"50%\" side=\"left\" fill=\"currentColor\" text-anchor=\"middle\">compound</textPath>\n",
       "    </text>\n",
       "    <path class=\"displacy-arrowhead\" d=\"M595,266.5 L587,254.5 603,254.5\" fill=\"currentColor\"/>\n",
       "</g>\n",
       "\n",
       "<g class=\"displacy-arrow\">\n",
       "    <path class=\"displacy-arc\" id=\"arrow-1286e33eccdb4e27ad37bf74d24152c6-0-3\" stroke-width=\"2px\" d=\"M770,264.5 C770,177.0 915.0,177.0 915.0,264.5\" fill=\"none\" stroke=\"currentColor\"/>\n",
       "    <text dy=\"1.25em\" style=\"font-size: 0.8em; letter-spacing: 1px\">\n",
       "        <textPath xlink:href=\"#arrow-1286e33eccdb4e27ad37bf74d24152c6-0-3\" class=\"displacy-label\" startOffset=\"50%\" side=\"left\" fill=\"currentColor\" text-anchor=\"middle\">compound</textPath>\n",
       "    </text>\n",
       "    <path class=\"displacy-arrowhead\" d=\"M770,266.5 L762,254.5 778,254.5\" fill=\"currentColor\"/>\n",
       "</g>\n",
       "\n",
       "<g class=\"displacy-arrow\">\n",
       "    <path class=\"displacy-arc\" id=\"arrow-1286e33eccdb4e27ad37bf74d24152c6-0-4\" stroke-width=\"2px\" d=\"M70,264.5 C70,2.0 925.0,2.0 925.0,264.5\" fill=\"none\" stroke=\"currentColor\"/>\n",
       "    <text dy=\"1.25em\" style=\"font-size: 0.8em; letter-spacing: 1px\">\n",
       "        <textPath xlink:href=\"#arrow-1286e33eccdb4e27ad37bf74d24152c6-0-4\" class=\"displacy-label\" startOffset=\"50%\" side=\"left\" fill=\"currentColor\" text-anchor=\"middle\">dobj</textPath>\n",
       "    </text>\n",
       "    <path class=\"displacy-arrowhead\" d=\"M925.0,266.5 L933.0,254.5 917.0,254.5\" fill=\"currentColor\"/>\n",
       "</g>\n",
       "</svg></span>"
      ],
      "text/plain": [
       "<IPython.core.display.HTML object>"
      ]
     },
     "metadata": {},
     "output_type": "display_data"
    }
   ],
   "source": [
    "# case1 part time job is a direct object of the verb find\n",
    "t1=nlp(\"find me a part time job\")\n",
    "displacy.render(t1, style='dep')"
   ]
  },
  {
   "cell_type": "code",
   "execution_count": 343,
   "metadata": {},
   "outputs": [
    {
     "data": {
      "text/html": [
       "<span class=\"tex2jax_ignore\"><svg xmlns=\"http://www.w3.org/2000/svg\" xmlns:xlink=\"http://www.w3.org/1999/xlink\" xml:lang=\"en\" id=\"d35f87a13e6342e4bb79ffd457448378-0\" class=\"displacy\" width=\"1275\" height=\"312.0\" direction=\"ltr\" style=\"max-width: none; height: 312.0px; color: #000000; background: #ffffff; font-family: Arial; direction: ltr\">\n",
       "<text class=\"displacy-token\" fill=\"currentColor\" text-anchor=\"middle\" y=\"222.0\">\n",
       "    <tspan class=\"displacy-word\" fill=\"currentColor\" x=\"50\">I</tspan>\n",
       "    <tspan class=\"displacy-tag\" dy=\"2em\" fill=\"currentColor\" x=\"50\">PRON</tspan>\n",
       "</text>\n",
       "\n",
       "<text class=\"displacy-token\" fill=\"currentColor\" text-anchor=\"middle\" y=\"222.0\">\n",
       "    <tspan class=\"displacy-word\" fill=\"currentColor\" x=\"225\">'m</tspan>\n",
       "    <tspan class=\"displacy-tag\" dy=\"2em\" fill=\"currentColor\" x=\"225\">AUX</tspan>\n",
       "</text>\n",
       "\n",
       "<text class=\"displacy-token\" fill=\"currentColor\" text-anchor=\"middle\" y=\"222.0\">\n",
       "    <tspan class=\"displacy-word\" fill=\"currentColor\" x=\"400\">available</tspan>\n",
       "    <tspan class=\"displacy-tag\" dy=\"2em\" fill=\"currentColor\" x=\"400\">ADJ</tspan>\n",
       "</text>\n",
       "\n",
       "<text class=\"displacy-token\" fill=\"currentColor\" text-anchor=\"middle\" y=\"222.0\">\n",
       "    <tspan class=\"displacy-word\" fill=\"currentColor\" x=\"575\">for</tspan>\n",
       "    <tspan class=\"displacy-tag\" dy=\"2em\" fill=\"currentColor\" x=\"575\">ADP</tspan>\n",
       "</text>\n",
       "\n",
       "<text class=\"displacy-token\" fill=\"currentColor\" text-anchor=\"middle\" y=\"222.0\">\n",
       "    <tspan class=\"displacy-word\" fill=\"currentColor\" x=\"750\">part</tspan>\n",
       "    <tspan class=\"displacy-tag\" dy=\"2em\" fill=\"currentColor\" x=\"750\">NOUN</tspan>\n",
       "</text>\n",
       "\n",
       "<text class=\"displacy-token\" fill=\"currentColor\" text-anchor=\"middle\" y=\"222.0\">\n",
       "    <tspan class=\"displacy-word\" fill=\"currentColor\" x=\"925\">time</tspan>\n",
       "    <tspan class=\"displacy-tag\" dy=\"2em\" fill=\"currentColor\" x=\"925\">NOUN</tspan>\n",
       "</text>\n",
       "\n",
       "<text class=\"displacy-token\" fill=\"currentColor\" text-anchor=\"middle\" y=\"222.0\">\n",
       "    <tspan class=\"displacy-word\" fill=\"currentColor\" x=\"1100\">work</tspan>\n",
       "    <tspan class=\"displacy-tag\" dy=\"2em\" fill=\"currentColor\" x=\"1100\">NOUN</tspan>\n",
       "</text>\n",
       "\n",
       "<g class=\"displacy-arrow\">\n",
       "    <path class=\"displacy-arc\" id=\"arrow-d35f87a13e6342e4bb79ffd457448378-0-0\" stroke-width=\"2px\" d=\"M70,177.0 C70,89.5 220.0,89.5 220.0,177.0\" fill=\"none\" stroke=\"currentColor\"/>\n",
       "    <text dy=\"1.25em\" style=\"font-size: 0.8em; letter-spacing: 1px\">\n",
       "        <textPath xlink:href=\"#arrow-d35f87a13e6342e4bb79ffd457448378-0-0\" class=\"displacy-label\" startOffset=\"50%\" side=\"left\" fill=\"currentColor\" text-anchor=\"middle\">nsubj</textPath>\n",
       "    </text>\n",
       "    <path class=\"displacy-arrowhead\" d=\"M70,179.0 L62,167.0 78,167.0\" fill=\"currentColor\"/>\n",
       "</g>\n",
       "\n",
       "<g class=\"displacy-arrow\">\n",
       "    <path class=\"displacy-arc\" id=\"arrow-d35f87a13e6342e4bb79ffd457448378-0-1\" stroke-width=\"2px\" d=\"M245,177.0 C245,89.5 395.0,89.5 395.0,177.0\" fill=\"none\" stroke=\"currentColor\"/>\n",
       "    <text dy=\"1.25em\" style=\"font-size: 0.8em; letter-spacing: 1px\">\n",
       "        <textPath xlink:href=\"#arrow-d35f87a13e6342e4bb79ffd457448378-0-1\" class=\"displacy-label\" startOffset=\"50%\" side=\"left\" fill=\"currentColor\" text-anchor=\"middle\">acomp</textPath>\n",
       "    </text>\n",
       "    <path class=\"displacy-arrowhead\" d=\"M395.0,179.0 L403.0,167.0 387.0,167.0\" fill=\"currentColor\"/>\n",
       "</g>\n",
       "\n",
       "<g class=\"displacy-arrow\">\n",
       "    <path class=\"displacy-arc\" id=\"arrow-d35f87a13e6342e4bb79ffd457448378-0-2\" stroke-width=\"2px\" d=\"M420,177.0 C420,89.5 570.0,89.5 570.0,177.0\" fill=\"none\" stroke=\"currentColor\"/>\n",
       "    <text dy=\"1.25em\" style=\"font-size: 0.8em; letter-spacing: 1px\">\n",
       "        <textPath xlink:href=\"#arrow-d35f87a13e6342e4bb79ffd457448378-0-2\" class=\"displacy-label\" startOffset=\"50%\" side=\"left\" fill=\"currentColor\" text-anchor=\"middle\">prep</textPath>\n",
       "    </text>\n",
       "    <path class=\"displacy-arrowhead\" d=\"M570.0,179.0 L578.0,167.0 562.0,167.0\" fill=\"currentColor\"/>\n",
       "</g>\n",
       "\n",
       "<g class=\"displacy-arrow\">\n",
       "    <path class=\"displacy-arc\" id=\"arrow-d35f87a13e6342e4bb79ffd457448378-0-3\" stroke-width=\"2px\" d=\"M770,177.0 C770,89.5 920.0,89.5 920.0,177.0\" fill=\"none\" stroke=\"currentColor\"/>\n",
       "    <text dy=\"1.25em\" style=\"font-size: 0.8em; letter-spacing: 1px\">\n",
       "        <textPath xlink:href=\"#arrow-d35f87a13e6342e4bb79ffd457448378-0-3\" class=\"displacy-label\" startOffset=\"50%\" side=\"left\" fill=\"currentColor\" text-anchor=\"middle\">compound</textPath>\n",
       "    </text>\n",
       "    <path class=\"displacy-arrowhead\" d=\"M770,179.0 L762,167.0 778,167.0\" fill=\"currentColor\"/>\n",
       "</g>\n",
       "\n",
       "<g class=\"displacy-arrow\">\n",
       "    <path class=\"displacy-arc\" id=\"arrow-d35f87a13e6342e4bb79ffd457448378-0-4\" stroke-width=\"2px\" d=\"M945,177.0 C945,89.5 1095.0,89.5 1095.0,177.0\" fill=\"none\" stroke=\"currentColor\"/>\n",
       "    <text dy=\"1.25em\" style=\"font-size: 0.8em; letter-spacing: 1px\">\n",
       "        <textPath xlink:href=\"#arrow-d35f87a13e6342e4bb79ffd457448378-0-4\" class=\"displacy-label\" startOffset=\"50%\" side=\"left\" fill=\"currentColor\" text-anchor=\"middle\">compound</textPath>\n",
       "    </text>\n",
       "    <path class=\"displacy-arrowhead\" d=\"M945,179.0 L937,167.0 953,167.0\" fill=\"currentColor\"/>\n",
       "</g>\n",
       "\n",
       "<g class=\"displacy-arrow\">\n",
       "    <path class=\"displacy-arc\" id=\"arrow-d35f87a13e6342e4bb79ffd457448378-0-5\" stroke-width=\"2px\" d=\"M595,177.0 C595,2.0 1100.0,2.0 1100.0,177.0\" fill=\"none\" stroke=\"currentColor\"/>\n",
       "    <text dy=\"1.25em\" style=\"font-size: 0.8em; letter-spacing: 1px\">\n",
       "        <textPath xlink:href=\"#arrow-d35f87a13e6342e4bb79ffd457448378-0-5\" class=\"displacy-label\" startOffset=\"50%\" side=\"left\" fill=\"currentColor\" text-anchor=\"middle\">pobj</textPath>\n",
       "    </text>\n",
       "    <path class=\"displacy-arrowhead\" d=\"M1100.0,179.0 L1108.0,167.0 1092.0,167.0\" fill=\"currentColor\"/>\n",
       "</g>\n",
       "</svg></span>"
      ],
      "text/plain": [
       "<IPython.core.display.HTML object>"
      ]
     },
     "metadata": {},
     "output_type": "display_data"
    }
   ],
   "source": [
    "# case2 part time job is the object of a preposition 'for'\n",
    "t2=nlp(\"I'm available for part time work \")\n",
    "displacy.render(t2, style='dep')"
   ]
  },
  {
   "cell_type": "code",
   "execution_count": 482,
   "metadata": {},
   "outputs": [],
   "source": [
    "#job type pattern1 [full time, part time, casual] + pobj/dobj\n",
    "type_list=['full time', 'part time', 'casual']\n",
    "def type_pattern1(sent):\n",
    "    matches=[]\n",
    "    doc=nlp(sent)\n",
    "    for chunk in doc.noun_chunks:\n",
    "        if chunk.root.dep_=='pobj' or chunk.root.dep_=='dobj':\n",
    "            matches.extend([ t for t in type_list if t in chunk.text.lower()])\n",
    "    return matches"
   ]
  },
  {
   "cell_type": "code",
   "execution_count": 559,
   "metadata": {},
   "outputs": [
    {
     "data": {
      "text/plain": [
       "['part time']"
      ]
     },
     "execution_count": 559,
     "metadata": {},
     "output_type": "execute_result"
    }
   ],
   "source": [
    "#example1\n",
    "type_p1=\"I'm available for part time work\"\n",
    "type_pattern1(type_p1)"
   ]
  },
  {
   "cell_type": "code",
   "execution_count": 560,
   "metadata": {},
   "outputs": [
    {
     "data": {
      "text/plain": [
       "['part time']"
      ]
     },
     "execution_count": 560,
     "metadata": {},
     "output_type": "execute_result"
    }
   ],
   "source": [
    "#example2\n",
    "type_p2=\"find me a part time job\"\n",
    "type_pattern1(type_p2)"
   ]
  },
  {
   "cell_type": "code",
   "execution_count": 563,
   "metadata": {},
   "outputs": [
    {
     "name": "stdout",
     "output_type": "stream",
     "text": [
      "I\n"
     ]
    },
    {
     "data": {
      "text/html": [
       "<span class=\"tex2jax_ignore\"><svg xmlns=\"http://www.w3.org/2000/svg\" xmlns:xlink=\"http://www.w3.org/1999/xlink\" xml:lang=\"en\" id=\"ac28b91b0b4b4bffa9a119c0cc9a01b8-0\" class=\"displacy\" width=\"1100\" height=\"312.0\" direction=\"ltr\" style=\"max-width: none; height: 312.0px; color: #000000; background: #ffffff; font-family: Arial; direction: ltr\">\n",
       "<text class=\"displacy-token\" fill=\"currentColor\" text-anchor=\"middle\" y=\"222.0\">\n",
       "    <tspan class=\"displacy-word\" fill=\"currentColor\" x=\"50\">I</tspan>\n",
       "    <tspan class=\"displacy-tag\" dy=\"2em\" fill=\"currentColor\" x=\"50\">PRON</tspan>\n",
       "</text>\n",
       "\n",
       "<text class=\"displacy-token\" fill=\"currentColor\" text-anchor=\"middle\" y=\"222.0\">\n",
       "    <tspan class=\"displacy-word\" fill=\"currentColor\" x=\"225\">want</tspan>\n",
       "    <tspan class=\"displacy-tag\" dy=\"2em\" fill=\"currentColor\" x=\"225\">VERB</tspan>\n",
       "</text>\n",
       "\n",
       "<text class=\"displacy-token\" fill=\"currentColor\" text-anchor=\"middle\" y=\"222.0\">\n",
       "    <tspan class=\"displacy-word\" fill=\"currentColor\" x=\"400\">to</tspan>\n",
       "    <tspan class=\"displacy-tag\" dy=\"2em\" fill=\"currentColor\" x=\"400\">PART</tspan>\n",
       "</text>\n",
       "\n",
       "<text class=\"displacy-token\" fill=\"currentColor\" text-anchor=\"middle\" y=\"222.0\">\n",
       "    <tspan class=\"displacy-word\" fill=\"currentColor\" x=\"575\">work</tspan>\n",
       "    <tspan class=\"displacy-tag\" dy=\"2em\" fill=\"currentColor\" x=\"575\">VERB</tspan>\n",
       "</text>\n",
       "\n",
       "<text class=\"displacy-token\" fill=\"currentColor\" text-anchor=\"middle\" y=\"222.0\">\n",
       "    <tspan class=\"displacy-word\" fill=\"currentColor\" x=\"750\">full</tspan>\n",
       "    <tspan class=\"displacy-tag\" dy=\"2em\" fill=\"currentColor\" x=\"750\">ADJ</tspan>\n",
       "</text>\n",
       "\n",
       "<text class=\"displacy-token\" fill=\"currentColor\" text-anchor=\"middle\" y=\"222.0\">\n",
       "    <tspan class=\"displacy-word\" fill=\"currentColor\" x=\"925\">time.</tspan>\n",
       "    <tspan class=\"displacy-tag\" dy=\"2em\" fill=\"currentColor\" x=\"925\">NOUN</tspan>\n",
       "</text>\n",
       "\n",
       "<g class=\"displacy-arrow\">\n",
       "    <path class=\"displacy-arc\" id=\"arrow-ac28b91b0b4b4bffa9a119c0cc9a01b8-0-0\" stroke-width=\"2px\" d=\"M70,177.0 C70,89.5 220.0,89.5 220.0,177.0\" fill=\"none\" stroke=\"currentColor\"/>\n",
       "    <text dy=\"1.25em\" style=\"font-size: 0.8em; letter-spacing: 1px\">\n",
       "        <textPath xlink:href=\"#arrow-ac28b91b0b4b4bffa9a119c0cc9a01b8-0-0\" class=\"displacy-label\" startOffset=\"50%\" side=\"left\" fill=\"currentColor\" text-anchor=\"middle\">nsubj</textPath>\n",
       "    </text>\n",
       "    <path class=\"displacy-arrowhead\" d=\"M70,179.0 L62,167.0 78,167.0\" fill=\"currentColor\"/>\n",
       "</g>\n",
       "\n",
       "<g class=\"displacy-arrow\">\n",
       "    <path class=\"displacy-arc\" id=\"arrow-ac28b91b0b4b4bffa9a119c0cc9a01b8-0-1\" stroke-width=\"2px\" d=\"M420,177.0 C420,89.5 570.0,89.5 570.0,177.0\" fill=\"none\" stroke=\"currentColor\"/>\n",
       "    <text dy=\"1.25em\" style=\"font-size: 0.8em; letter-spacing: 1px\">\n",
       "        <textPath xlink:href=\"#arrow-ac28b91b0b4b4bffa9a119c0cc9a01b8-0-1\" class=\"displacy-label\" startOffset=\"50%\" side=\"left\" fill=\"currentColor\" text-anchor=\"middle\">aux</textPath>\n",
       "    </text>\n",
       "    <path class=\"displacy-arrowhead\" d=\"M420,179.0 L412,167.0 428,167.0\" fill=\"currentColor\"/>\n",
       "</g>\n",
       "\n",
       "<g class=\"displacy-arrow\">\n",
       "    <path class=\"displacy-arc\" id=\"arrow-ac28b91b0b4b4bffa9a119c0cc9a01b8-0-2\" stroke-width=\"2px\" d=\"M245,177.0 C245,2.0 575.0,2.0 575.0,177.0\" fill=\"none\" stroke=\"currentColor\"/>\n",
       "    <text dy=\"1.25em\" style=\"font-size: 0.8em; letter-spacing: 1px\">\n",
       "        <textPath xlink:href=\"#arrow-ac28b91b0b4b4bffa9a119c0cc9a01b8-0-2\" class=\"displacy-label\" startOffset=\"50%\" side=\"left\" fill=\"currentColor\" text-anchor=\"middle\">xcomp</textPath>\n",
       "    </text>\n",
       "    <path class=\"displacy-arrowhead\" d=\"M575.0,179.0 L583.0,167.0 567.0,167.0\" fill=\"currentColor\"/>\n",
       "</g>\n",
       "\n",
       "<g class=\"displacy-arrow\">\n",
       "    <path class=\"displacy-arc\" id=\"arrow-ac28b91b0b4b4bffa9a119c0cc9a01b8-0-3\" stroke-width=\"2px\" d=\"M770,177.0 C770,89.5 920.0,89.5 920.0,177.0\" fill=\"none\" stroke=\"currentColor\"/>\n",
       "    <text dy=\"1.25em\" style=\"font-size: 0.8em; letter-spacing: 1px\">\n",
       "        <textPath xlink:href=\"#arrow-ac28b91b0b4b4bffa9a119c0cc9a01b8-0-3\" class=\"displacy-label\" startOffset=\"50%\" side=\"left\" fill=\"currentColor\" text-anchor=\"middle\">amod</textPath>\n",
       "    </text>\n",
       "    <path class=\"displacy-arrowhead\" d=\"M770,179.0 L762,167.0 778,167.0\" fill=\"currentColor\"/>\n",
       "</g>\n",
       "\n",
       "<g class=\"displacy-arrow\">\n",
       "    <path class=\"displacy-arc\" id=\"arrow-ac28b91b0b4b4bffa9a119c0cc9a01b8-0-4\" stroke-width=\"2px\" d=\"M595,177.0 C595,2.0 925.0,2.0 925.0,177.0\" fill=\"none\" stroke=\"currentColor\"/>\n",
       "    <text dy=\"1.25em\" style=\"font-size: 0.8em; letter-spacing: 1px\">\n",
       "        <textPath xlink:href=\"#arrow-ac28b91b0b4b4bffa9a119c0cc9a01b8-0-4\" class=\"displacy-label\" startOffset=\"50%\" side=\"left\" fill=\"currentColor\" text-anchor=\"middle\">npadvmod</textPath>\n",
       "    </text>\n",
       "    <path class=\"displacy-arrowhead\" d=\"M925.0,179.0 L933.0,167.0 917.0,167.0\" fill=\"currentColor\"/>\n",
       "</g>\n",
       "</svg></span>"
      ],
      "text/plain": [
       "<IPython.core.display.HTML object>"
      ]
     },
     "metadata": {},
     "output_type": "display_data"
    }
   ],
   "source": [
    "# job type pattern2 case1\n",
    "tp2_c1=nlp(\"I want to work full time.\")\n",
    "displacy.render(tp2_c1, style='dep')"
   ]
  },
  {
   "cell_type": "code",
   "execution_count": 375,
   "metadata": {},
   "outputs": [
    {
     "data": {
      "text/html": [
       "<span class=\"tex2jax_ignore\"><svg xmlns=\"http://www.w3.org/2000/svg\" xmlns:xlink=\"http://www.w3.org/1999/xlink\" xml:lang=\"en\" id=\"0937932eb4044e22b2b34564168679a8-0\" class=\"displacy\" width=\"750\" height=\"312.0\" direction=\"ltr\" style=\"max-width: none; height: 312.0px; color: #000000; background: #ffffff; font-family: Arial; direction: ltr\">\n",
       "<text class=\"displacy-token\" fill=\"currentColor\" text-anchor=\"middle\" y=\"222.0\">\n",
       "    <tspan class=\"displacy-word\" fill=\"currentColor\" x=\"50\">I'like</tspan>\n",
       "    <tspan class=\"displacy-tag\" dy=\"2em\" fill=\"currentColor\" x=\"50\">INTJ</tspan>\n",
       "</text>\n",
       "\n",
       "<text class=\"displacy-token\" fill=\"currentColor\" text-anchor=\"middle\" y=\"222.0\">\n",
       "    <tspan class=\"displacy-word\" fill=\"currentColor\" x=\"225\">to</tspan>\n",
       "    <tspan class=\"displacy-tag\" dy=\"2em\" fill=\"currentColor\" x=\"225\">PART</tspan>\n",
       "</text>\n",
       "\n",
       "<text class=\"displacy-token\" fill=\"currentColor\" text-anchor=\"middle\" y=\"222.0\">\n",
       "    <tspan class=\"displacy-word\" fill=\"currentColor\" x=\"400\">work</tspan>\n",
       "    <tspan class=\"displacy-tag\" dy=\"2em\" fill=\"currentColor\" x=\"400\">VERB</tspan>\n",
       "</text>\n",
       "\n",
       "<text class=\"displacy-token\" fill=\"currentColor\" text-anchor=\"middle\" y=\"222.0\">\n",
       "    <tspan class=\"displacy-word\" fill=\"currentColor\" x=\"575\">casual.</tspan>\n",
       "    <tspan class=\"displacy-tag\" dy=\"2em\" fill=\"currentColor\" x=\"575\">NOUN</tspan>\n",
       "</text>\n",
       "\n",
       "<g class=\"displacy-arrow\">\n",
       "    <path class=\"displacy-arc\" id=\"arrow-0937932eb4044e22b2b34564168679a8-0-0\" stroke-width=\"2px\" d=\"M245,177.0 C245,89.5 395.0,89.5 395.0,177.0\" fill=\"none\" stroke=\"currentColor\"/>\n",
       "    <text dy=\"1.25em\" style=\"font-size: 0.8em; letter-spacing: 1px\">\n",
       "        <textPath xlink:href=\"#arrow-0937932eb4044e22b2b34564168679a8-0-0\" class=\"displacy-label\" startOffset=\"50%\" side=\"left\" fill=\"currentColor\" text-anchor=\"middle\">aux</textPath>\n",
       "    </text>\n",
       "    <path class=\"displacy-arrowhead\" d=\"M245,179.0 L237,167.0 253,167.0\" fill=\"currentColor\"/>\n",
       "</g>\n",
       "\n",
       "<g class=\"displacy-arrow\">\n",
       "    <path class=\"displacy-arc\" id=\"arrow-0937932eb4044e22b2b34564168679a8-0-1\" stroke-width=\"2px\" d=\"M70,177.0 C70,2.0 400.0,2.0 400.0,177.0\" fill=\"none\" stroke=\"currentColor\"/>\n",
       "    <text dy=\"1.25em\" style=\"font-size: 0.8em; letter-spacing: 1px\">\n",
       "        <textPath xlink:href=\"#arrow-0937932eb4044e22b2b34564168679a8-0-1\" class=\"displacy-label\" startOffset=\"50%\" side=\"left\" fill=\"currentColor\" text-anchor=\"middle\">xcomp</textPath>\n",
       "    </text>\n",
       "    <path class=\"displacy-arrowhead\" d=\"M400.0,179.0 L408.0,167.0 392.0,167.0\" fill=\"currentColor\"/>\n",
       "</g>\n",
       "\n",
       "<g class=\"displacy-arrow\">\n",
       "    <path class=\"displacy-arc\" id=\"arrow-0937932eb4044e22b2b34564168679a8-0-2\" stroke-width=\"2px\" d=\"M420,177.0 C420,89.5 570.0,89.5 570.0,177.0\" fill=\"none\" stroke=\"currentColor\"/>\n",
       "    <text dy=\"1.25em\" style=\"font-size: 0.8em; letter-spacing: 1px\">\n",
       "        <textPath xlink:href=\"#arrow-0937932eb4044e22b2b34564168679a8-0-2\" class=\"displacy-label\" startOffset=\"50%\" side=\"left\" fill=\"currentColor\" text-anchor=\"middle\">dobj</textPath>\n",
       "    </text>\n",
       "    <path class=\"displacy-arrowhead\" d=\"M570.0,179.0 L578.0,167.0 562.0,167.0\" fill=\"currentColor\"/>\n",
       "</g>\n",
       "</svg></span>"
      ],
      "text/plain": [
       "<IPython.core.display.HTML object>"
      ]
     },
     "metadata": {},
     "output_type": "display_data"
    }
   ],
   "source": [
    "# job type pattern2 case2\n",
    "tp2_c2=nlp(\"I'like to work casual.\")    \n",
    "displacy.render(tp2_c2, style='dep')"
   ]
  },
  {
   "cell_type": "code",
   "execution_count": 487,
   "metadata": {},
   "outputs": [],
   "source": [
    "# job type pattern2 VERB+[fulltime, part time, casual]\n",
    "def type_pattern2(sent):\n",
    "    matches =[]\n",
    "    doc=nlp(sent)\n",
    "    for i in range(len(doc)):\n",
    "        if doc[i].pos_ == 'VERB' and doc[i].text=='work':\n",
    "            matches.extend([t for t in type_list if t in doc[i:].text])\n",
    "    return matches\n"
   ]
  },
  {
   "cell_type": "code",
   "execution_count": 488,
   "metadata": {},
   "outputs": [
    {
     "data": {
      "text/plain": [
       "['full time']"
      ]
     },
     "execution_count": 488,
     "metadata": {},
     "output_type": "execute_result"
    }
   ],
   "source": [
    "#example\n",
    "type_p3=\"I want to work full time\"\n",
    "type_pattern2(type_p3)"
   ]
  },
  {
   "cell_type": "markdown",
   "metadata": {},
   "source": [
    "### 3.5 Patterns for experience"
   ]
  },
  {
   "cell_type": "code",
   "execution_count": 259,
   "metadata": {},
   "outputs": [],
   "source": [
    "# pattern for experience\n",
    "# pattern1: no experience\n",
    "exper_pattern1 = [{\"LOWER\": {\"IN\": [\"no\", \"few\", \"little\"]}}, {\"LOWER\": \"experience\"}]\n",
    "# pattern 2 : DATE+DATE+prep+experience (e.g I have 10 years of experience, find me a job in customer service)\n",
    "exper_pattern2 =[{\"ENT_TYPE\": \"DATE\"}, {\"ENT_TYPE\": \"DATE\"}, {\"DEP\":\"prep\"}, {\"LOWER\": \"experience\"}]\n",
    "def experience_pattern(sent):\n",
    "    matcher = Matcher(nlp.vocab)\n",
    "    matcher.add(\"experience\", [exper_pattern1, exper_pattern2])\n",
    "    matches = matcher(nlp(sent), as_spans=True)\n",
    "    return matches "
   ]
  },
  {
   "cell_type": "code",
   "execution_count": 562,
   "metadata": {},
   "outputs": [
    {
     "data": {
      "text/plain": [
       "[no experience]"
      ]
     },
     "execution_count": 562,
     "metadata": {},
     "output_type": "execute_result"
    }
   ],
   "source": [
    "#example1\n",
    "exp_p1=\"I have no experience\"\n",
    "experience_pattern(exp_p1)"
   ]
  },
  {
   "cell_type": "code",
   "execution_count": 561,
   "metadata": {},
   "outputs": [
    {
     "data": {
      "text/plain": [
       "[2 years of experience]"
      ]
     },
     "execution_count": 561,
     "metadata": {},
     "output_type": "execute_result"
    }
   ],
   "source": [
    "#example2\n",
    "exp_p2=\"I have 2 years of experience\"\n",
    "experience_pattern(exp_p2)"
   ]
  },
  {
   "cell_type": "markdown",
   "metadata": {},
   "source": [
    "## 4 Chatbot Implementation and Deployment"
   ]
  },
  {
   "cell_type": "code",
   "execution_count": 555,
   "metadata": {},
   "outputs": [],
   "source": [
    "# parse user input and store key information in a dictionary\n",
    "def parse(text):\n",
    "    info ={'job_name':[], 'location':[], 'company':[], 'location':[], 'job_type':[], 'experience':[]}\n",
    "    doc=nlp(text)\n",
    "    ents=[ent.label_ for ent in doc.ents]\n",
    "    print(f'entities: {ents}')\n",
    "    #parse user input with location patttern, extract location name\n",
    "    if 'GPE' in ents:\n",
    "        loc_matches = loc_pattern(text)\n",
    "        for span in loc_matches:\n",
    "            loc=[token.text for token in span if token.dep_=='pobj']    \n",
    "        info['location']=loc\n",
    "    # parse user input with company name pattern, extrac company name\n",
    "    if 'ORG' in ents:\n",
    "        company_matches = com_pattern(text)\n",
    "        for span in company_matches:\n",
    "            company=[token.text for token in span if token.dep_=='pobj']    \n",
    "        info['company']=company\n",
    "    # parse user input with job name pattern, extract job name\n",
    "    name1 = category_pattern1(text)\n",
    "    name2= category_pattern2(text)\n",
    "    name=list(set(name1+name2))\n",
    "    if len(name)>0:\n",
    "        info['job_name']=name\n",
    "    #parse user input with job type pattern, extract job type\n",
    "    type1 = type_pattern1(text)\n",
    "    type2 = type_pattern2(text)\n",
    "    type=[]\n",
    "    type=list(set(type1+type2))\n",
    "    if len(type)>0:\n",
    "        info['job_type']=type\n",
    "    #parse user input with experience pattern, extract experience \n",
    "    exper_matches =experience_pattern(text)\n",
    "    exper=[span.text for span in exper_matches]\n",
    "    if len(exper)>0:\n",
    "        info['experience']=exper\n",
    "    return info\n"
   ]
  },
  {
   "cell_type": "code",
   "execution_count": 567,
   "metadata": {},
   "outputs": [],
   "source": [
    "import random\n",
    "def reply(info):\n",
    "    start = random.choice(['Greeting!', 'Hello! ', \n",
    "                            \"Welcome! Nice to see you here. I'm Ling Bot and I will help you to find a job.\"])\n",
    "    name=info['job_name']\n",
    "    loc=info['location']\n",
    "    company=info['company']\n",
    "    job_type=info['job_type']\n",
    "    experience=info['experience']\n",
    "    print(f'info:{info}')\n",
    "    loc_list=loc\n",
    "    type_list=job_type\n",
    "    company_list=company\n",
    "    if len(name)==0:\n",
    "        title_list=new_data['job_title'].tolist()\n",
    "    if len(loc)==0:\n",
    "        loc_list=new_data['city'].tolist()\n",
    "    if len(job_type)==0:\n",
    "        type_list=new_data['job_type'].tolist()\n",
    "    if len(company)==0:\n",
    "        company_list=new_data['company_name'].tolist()\n",
    "\n",
    "        #jobs=new_data[(new_data['job_title'].isin(title_list)) & (new_data['city']==loc[0]) & (new_data['job_type']==job_type[0])]\n",
    "\n",
    "    if len(name)>0:\n",
    "        # if job name is in job title\n",
    "        title_list=[title for title  in new_data['job_title'] if name[0] in title ]\n",
    "        #print(title_list)\n",
    "    # extract matched records in the dataset new_data\n",
    "    jobs=new_data[(new_data['job_title'].isin(title_list)) & (new_data['city'].isin(loc_list)) & (new_data['company_name'].isin(company_list)) & (new_data['job_type'].isin(type_list))]\n",
    "    print(jobs.shape[0])\n",
    "    # didn't find any job in the dataset\n",
    "    if jobs.shape[0]==0:\n",
    "        response=\"Sorry, I can't find any job you are looking for.\"\n",
    "        return response\n",
    "    # found only one job in the dataset\n",
    "    if jobs.shape[0]==1:\n",
    "        job = jobs.iloc[0]\n",
    "        job_summary=(f'''job title: {job['job_title']}\\nlocation: {job['city']}\\n job_type: {job['job_type']}\\njob description: {job['job_description']}''')\n",
    "        response = random.choice([f\"Great! I've found a job in {name[0]}. Here is the summary.\\n{job_summary}\"])\n",
    "    num_of_job = jobs.shape[0]\n",
    "    # job name and location is provided\n",
    "    if len(name)>0 and len(loc)>0 and len(job_type)==0:\n",
    "        if num_of_job>=50:\n",
    "            response = random.choice([f\"Great! I've found {num_of_job} job in {name[0]} in {loc[0]} that you are interested in. Could you please be more specific, like full time, part time, or casual.\"])\n",
    "            return response\n",
    "        if num_of_job<50 and num_of_job>1:\n",
    "            # randomly select a mathced record\n",
    "            job=jobs.iloc[random.randint(0, jobs.shape[0]-1)]\n",
    "            job_summary=(f'''job title: {job['job_title']}\\nlocation: {job['city']}\\n job_type: {job['job_type']}\\nexperience required:{job['experience_info']}\\njob description: {job['job_description']}''')\n",
    "            # reply with the randomly selected matched record in the dataset\n",
    "            response = random.choice([f\"Great! I've found some jobs in {name[0]} in {loc[0]} that you are looking for. Here is one of them.\\n{job_summary}\"])\n",
    "            return response\n",
    "    # location is not provided\n",
    "    if len(name)>0 and len(loc)==0:\n",
    "        if num_of_job>50:\n",
    "            response = random.choice([f\"Great! I've found many job in {name[0]} that you are interested in. Could you please be more specific, like in which city you want to work.\"])\n",
    "            return response\n",
    "        if num_of_job<50 and num_of_job>1:\n",
    "            job=jobs.iloc[random.randint(0, jobs.shape[0]-1)]\n",
    "            job_summary=(f'''job title: {job['job_title']}\\nlocation: {job['city']}\\n job_type: {job['job_type']}\\nexperience required:{job['experience_info']}\\njob description: {job['job_description']}''')\n",
    "            response = random.choice([f\"Great! I've found some jobs in {name[0]} that you are looking for. Here is one of them.\\n{job_summary}\"])\n",
    "            return response\n",
    "    # location is provided and job name is not provided\n",
    "    if len(loc)>0 and len(name)==0:       \n",
    "        if num_of_job>1:\n",
    "            name_list=jobs['job_title'][:5].tolist()\n",
    "            li='\\n'.join(name_list)\n",
    "            response=f\"I've found some jobs in {loc[0]} for you. Here are some job names:\\n{li}.\\n For more information, please specify the job name you are looking for. \"\n",
    "            return response\n",
    "    # location, job name, job type are provided\n",
    "    if len(loc)>0 and len(name)>0 and len(job_type)>0:\n",
    "        if num_of_job>1:\n",
    "            job=jobs.iloc[random.randint(0, num_of_job-1)]\n",
    "            job_summary=(f'''job title: {job['job_title']}\\nlocation: {job['city']}\\n job_type: {job['job_type']}\\nexperience required:{job['experience_info']}\\njob description: {job['job_description']}''')\n",
    "            response = random.choice([f\"Great! I've found {num_of_job} jobs in {name[0]} in {loc[0]} that you are looking for. Here is one of them.\\n{job_summary}\"])\n",
    "            return response\n",
    "    # company name provided\n",
    "    if len(company)>0:\n",
    "        if num_of_job>1:\n",
    "            name_list=jobs['job_title'][:5].tolist()\n",
    "            li='\\n'.join(name_list)\n",
    "            response = f\"Great! I've found {num_of_job} jobs available at {company[0]}. Here is the list of positions they are hiring:\\n{li}\\n. For more information, please specify the job name you are interested in. \"\n",
    "            return response\n",
    "\n",
    "    return start\n",
    "        \n",
    "\n",
    "\n",
    "    "
   ]
  },
  {
   "cell_type": "code",
   "execution_count": 576,
   "metadata": {},
   "outputs": [
    {
     "name": "stdout",
     "output_type": "stream",
     "text": [
      "entities: []\n",
      "info:{'job_name': ['hospitality'], 'location': [], 'company': [], 'job_type': [], 'experience': []}\n",
      "47\n",
      "Great! I've found some jobs in hospitality that you are looking for. Here is one of them.\n",
      "job title: hospitality / customer service\n",
      "location: Sydney\n",
      " job_type: full time\n",
      "experience required:[]\n",
      "job description:  If you've been looking to step out of hospitality for a while then this is your lucky break! This global organisation is currently looking for an enthusiastic and customer-focused individual looking to start their career in the corporate world. In this role, you will have access to full training and development plus ongoing support and the opportunity to work with a variety of large government departments. If youâ€™re tech-savvy, keen to learn and looking for that first opportunity to prove yourself then this is it! The role: Rotating roster from 8am - 8pm, Monday to Friday (no weekend work!) $40,500 plus super Inbound calls relating to basic customer enquiries Administration and compliance follow-up Working in a large contact centre Working through multiple screens to update information The benefits: Close to public transport Full training provided On-going support and development Access to work with large government departments Discounts and incentives across a variety of organisations Supportive management team Opportunity to progress your career ** National police and background check is required for all applicants ** If the above sounds like you, we want to talk to you! This opportunity is available immediately so Apply NOW. If you currently do not have a resume, please call Crystal directly on 02 8215 1035 otherwise apply now! We will be in touch within 24-hours \n",
      "entities: ['GPE']\n",
      "info:{'job_name': ['construction'], 'location': ['Sydney'], 'company': [], 'job_type': ['full time'], 'experience': []}\n",
      "51\n",
      "Great! I've found 51 jobs in construction in Sydney that you are looking for. Here is one of them.\n",
      "job title: nsw sales manager - construction - embedded networks.\n",
      "location: Sydney\n",
      " job_type: full time\n",
      "experience required:['builders']\n",
      "job description:  This challenging and rewarding role will see you undertake a variety of tasks, with a main focus on driving new business development, manage a team of sales professionals and building client relationships. About the role: Reporting to the National Business Manager, you will manage and grow new relationships (Hunter and provider mentality), build on strong existing relationships, drive the team to hit targets and proactively go to market. To be successful, the ideal person will be proactive, be a strong influencer and relationship builder. Duties &amp; key responsibilities: Build and work with the existing client portfolio. Target new business opportunities with new developers and contractors. Manage a team and provide support and direction. Attend trade fairs, shows and special events to promote the business. Ideally the successful person will have residential industry knowledge and experience working with residential developers, contractors and builders. Ideal background: Experience of selling network products (embedded networks, utilities or electricity) to builders, developers or contractors. Have a high level of commercial acumen, organised and presentable. +5 years in BDM or Sales Manager position, with the ability to work in both a reactive and proactive environment. A solid reputation for delivering results, continuous improvement and implementing strategic project planning. How to apply: Click on the APPLY button or contact Phil Ferreira on (02) 8024 7140 for a confidential discussion. \n",
      "entities: ['GPE']\n",
      "info:{'job_name': [], 'location': ['Perth'], 'company': [], 'job_type': [], 'experience': []}\n",
      "2026\n",
      "I've found some jobs in Perth for you. Here are some job names:\n",
      "projects manager\n",
      "marine crew - master position\n",
      "recruitment consultant \n",
      "installer commercial windows\n",
      "child care worker (certificate iii) - thornlie.\n",
      " For more information, please specify the job name you are looking for. \n",
      "entities: ['ORG']\n",
      "info:{'job_name': [], 'location': [], 'company': ['FIS'], 'job_type': [], 'experience': []}\n",
      "4\n",
      "Great! I've found 4 jobs available at FIS. Here is the list of positions they are hiring:\n",
      "senior treasury consultant \n",
      "senior integrity treasury consultant - anz \n",
      "quantum senior treasury consultant - contract \n",
      "senior treasury consultant (contractor) \n",
      ". For more information, please specify the job name you are interested in. \n",
      "entities: []\n",
      "info:{'job_name': ['hospitality'], 'location': [], 'company': [], 'job_type': [], 'experience': ['no experience']}\n",
      "47\n",
      "Great! I've found some jobs in hospitality that you are looking for. Here is one of them.\n",
      "job title: hospitality vacancies galore-managers-supervisors-chefs all levels\n",
      "location: Melbourne\n",
      " job_type: full time\n",
      "experience required:[]\n",
      "job description:  Australia's leading hospitality recruitment specialist has full time positions that need to be filled immediately. If you have a stable work history and are passionate about your trade we want your resume on our books. NO fees or costs are involved. Current VACANCIES: VICTORIA -Group Venue Mgr-Italian Restaurants $100k-$120k -Front Office Mgr-City Apartments Venue Salary Neg -Senior Waiter-Coldstream Winery day shifts $50k -Food and Beverage Supervisor-Mornington Peninsula upmarket venue $55k-$60k -Gaming Mgr-SE Subs hotel Sal Neg -Duty Mgr-SE Subs gaming Venue $55k-$60k -Food and Beverage Supervisor-Bright Country Vic $58k -Restaurant Mgr-Mornington peninsula Resort/Winery Sal Neg -Front Office Duty Mgr-5 Star City Hotel $55k -Head Chef-New upmarket cafÃ© Richmond Day shifts only $80k-$85k -Head Chef-North Subs Bistro $80k-$85k -Sous Chef-North Subs Bistro $65k-$75k -Sous Chef-Inner East subs Members Club (5 Star) $70k 40 hour week -Sous Chef-Inner south subs Catering Company 5am-2pm $65k-$70k -Sous Chef-upmarket Daylesford Venue Sal Neg -Sous Chef-SE Subs Bistro/Functions $60k-$70k -Sous Chef-Mornington Peninsula Venue $65k-$75k -Pastry Chef de Partie-Mornington Peninsula Winery $55k-$60k -Chef de Partie-Upmarket Daylesford Venue Sal Neg -Chef de Partie-High county, Bright,Â Vic $55k -Chef de Partie-Craigieburn Venue $55k -Chef de Partie-Apollo Bay $55k -Chef de Partie-Clayton Venue $55k-$60k -Chef de Partie-Mornington Peninsula $55k-$60k -Commis Chef-Mornington Peninsula Winery -Commis Chef-Clayton Venue -Pizza Chef-SE Subs venue -Apprentice Chef-Mornington Peninsula Winery -Apprentice Chef-Outer North Subs venue This is just a taste of what we have available. Please forward your resume in WORD format to the link below or call Scott Bolton onÂ  0425 877 072Â for more information. recruit@scottbolton.com.au Â  \n",
      "entities: []\n",
      "info:{'job_name': ['construction'], 'location': [], 'company': [], 'job_type': [], 'experience': []}\n",
      "221\n",
      "Great! I've found many job in construction that you are interested in. Could you please be more specific, like in which city you want to work.\n"
     ]
    }
   ],
   "source": [
    "intent1=\"I'd like to find a job in hospitality.\"\n",
    "intent2=\"find me a job in construction in Sydney. I want to work full time.\"\n",
    "intent3=\"I'm looking for a job in Perth\"\n",
    "intent4=\"find me a job at FIS.\"\n",
    "intent5=\"I have no experience, find me a job in hospitality\"\n",
    "intent6=\"I'm looking for a construction work\"\n",
    "print(reply(parse(intent1)))\n",
    "print(reply(parse(intent2)))\n",
    "print(reply(parse(intent3)))\n",
    "print(reply(parse(intent4)))\n",
    "print(reply(parse(intent5)))\n",
    "print(reply(parse(intent6)))\n",
    "\n",
    "\n"
   ]
  },
  {
   "cell_type": "code",
   "execution_count": 275,
   "metadata": {},
   "outputs": [
    {
     "name": "stdout",
     "output_type": "stream",
     "text": [
      "{'username': 'Jlingbot', 'is_bot': True, 'can_join_groups': True, 'first_name': 'Ling Bot', 'supports_inline_queries': False, 'can_read_all_group_messages': False, 'id': 5185351525}\n"
     ]
    }
   ],
   "source": [
    "import telegram\n",
    "TOKEN = \"5185351525:AAEuQygyboOkK1srYF__CyDccRrZTEohYhM\"\n",
    "bot = telegram.Bot(token=TOKEN)\n",
    "print(bot.get_me())\n"
   ]
  },
  {
   "cell_type": "code",
   "execution_count": 575,
   "metadata": {},
   "outputs": [
    {
     "name": "stdout",
     "output_type": "stream",
     "text": [
      "entities: []\n",
      "info:{'job_name': [], 'location': [], 'company': [], 'job_type': [], 'experience': []}\n",
      "30000\n",
      "entities: []\n",
      "info:{'job_name': ['hospitality'], 'location': [], 'company': [], 'job_type': [], 'experience': []}\n",
      "47\n",
      "entities: ['GPE']\n",
      "info:{'job_name': ['construction'], 'location': ['Sydney'], 'company': [], 'job_type': ['full time'], 'experience': []}\n",
      "51\n",
      "entities: ['ORG']\n",
      "info:{'job_name': [], 'location': [], 'company': ['FIS'], 'job_type': [], 'experience': []}\n",
      "4\n",
      "entities: []\n",
      "info:{'job_name': ['hospitality'], 'location': [], 'company': [], 'job_type': [], 'experience': ['no experience']}\n",
      "47\n"
     ]
    }
   ],
   "source": [
    "import spacy\n",
    "from telegram.ext import Updater, MessageHandler, Filters\n",
    "#the callback function that uses spaCy\n",
    "def utterance(update, context):\n",
    "    msg = update.message.text\n",
    "    nlp = spacy.load('en_core_web_sm')\n",
    "    doc = nlp(msg)\n",
    "    user_input=parse(msg)\n",
    "    response = reply(user_input)\n",
    "    update.message.reply_text(response)\n",
    "\n",
    "#the code responsible for interactions with Telegram\n",
    "updater = Updater(TOKEN, use_context=True)\n",
    "updater.dispatcher.add_handler(MessageHandler(Filters.text, utterance))\n",
    "updater.start_polling()\n",
    "updater.idle()"
   ]
  }
 ],
 "metadata": {
  "interpreter": {
   "hash": "4439f037c894aae644660652326ce2d807b2c9dbc629da584070d28af4e3a9b4"
  },
  "kernelspec": {
   "display_name": "Python 3.8.10 ('cits4012')",
   "language": "python",
   "name": "python3"
  },
  "language_info": {
   "codemirror_mode": {
    "name": "ipython",
    "version": 3
   },
   "file_extension": ".py",
   "mimetype": "text/x-python",
   "name": "python",
   "nbconvert_exporter": "python",
   "pygments_lexer": "ipython3",
   "version": "3.8.10"
  },
  "orig_nbformat": 4
 },
 "nbformat": 4,
 "nbformat_minor": 2
}
